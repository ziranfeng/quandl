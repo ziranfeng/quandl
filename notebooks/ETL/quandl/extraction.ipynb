{
 "cells": [
  {
   "cell_type": "code",
   "execution_count": null,
   "metadata": {},
   "outputs": [],
   "source": [
    "%run -i 'notebooks/ETL/opec/extraction'"
   ]
  },
  {
   "cell_type": "code",
   "execution_count": 6,
   "metadata": {},
   "outputs": [
    {
     "name": "stdout",
     "output_type": "stream",
     "text": [
      "dict_keys(['database_id', 'database_code', 'start_date', 'name', 'description', 'collapse', 'refreshed_at', 'id', 'type', 'column_index', 'dataset_code', 'data', 'column_names', 'newest_available_date', 'end_date', 'frequency', 'transform', 'premium', 'order', 'limit', 'oldest_available_date'])\n"
     ]
    }
   ],
   "source": [
    "print(extraction['dataset'].keys())"
   ]
  },
  {
   "cell_type": "code",
   "execution_count": null,
   "metadata": {},
   "outputs": [],
   "source": [
    "opec_pd.head(5)"
   ]
  },
  {
   "cell_type": "code",
   "execution_count": null,
   "metadata": {},
   "outputs": [],
   "source": [
    "opec_pd.describe()"
   ]
  },
  {
   "cell_type": "code",
   "execution_count": 15,
   "metadata": {},
   "outputs": [
    {
     "data": {
      "text/plain": [
       "('2003-01-02', '2019-12-31')"
      ]
     },
     "execution_count": 15,
     "metadata": {},
     "output_type": "execute_result"
    }
   ],
   "source": [
    "opec_pd['Date'].min(), opec_pd['Date'].max()"
   ]
  },
  {
   "cell_type": "code",
   "execution_count": 21,
   "metadata": {},
   "outputs": [
    {
     "name": "stdout",
     "output_type": "stream",
     "text": [
      "\n",
      "Data Extracted From OPEC Crude Oil Price;\n",
      "Described as: Reference Price for the OPEC Crude Oil Basket.  Currently includes: Saharan Blend (Algeria), Girassol (Angola), Oriente (Ecuador), Iran Heavy (Islamic Republic of Iran), Basra Light (Iraq), Kuwait Export (Kuwait), Es Sider (Libya), Bonny Light (Nigeria), Qatar Marine (Qatar), Arab Light (Saudi Arabia), Murban (UAE) and Merey (Venezuela).;\n",
      "Start from 2003-01-02 & End at 2020-01-01;\n",
      "Oldest Available on 2003-01-02 & Newest Available on 2020-02-20;\n",
      "Data Frequency is daily;\n",
      "\n"
     ]
    }
   ],
   "source": [
    "extraction_summary = \"\"\"\n",
    "Data Extracted From {name};\n",
    "Described as: {description};\n",
    "Start from {start} & End at {end};\n",
    "Oldest Available on {oa} & Newest Available on {na};\n",
    "Data Frequency is {frequency};\n",
    "\"\"\".format(\n",
    "    name=extraction['dataset']['name'],\n",
    "    description=extraction['dataset']['description'],\n",
    "    start=extraction['dataset']['start_date'],\n",
    "    end=extraction['dataset']['end_date'],\n",
    "    oa=extraction['dataset']['oldest_available_date'],\n",
    "    na=extraction['dataset']['newest_available_date'],\n",
    "    frequency=extraction['dataset']['frequency']\n",
    ")\n",
    "print(extraction_summary)"
   ]
  }
 ],
 "metadata": {
  "kernelspec": {
   "display_name": "Python 3",
   "language": "python",
   "name": "python3"
  },
  "language_info": {
   "codemirror_mode": {
    "name": "ipython",
    "version": 3
   },
   "file_extension": ".py",
   "mimetype": "text/x-python",
   "name": "python",
   "nbconvert_exporter": "python",
   "pygments_lexer": "ipython3",
   "version": "3.5.3"
  }
 },
 "nbformat": 4,
 "nbformat_minor": 4
}
