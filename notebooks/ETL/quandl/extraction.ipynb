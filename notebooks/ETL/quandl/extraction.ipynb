{
 "cells": [
  {
   "cell_type": "markdown",
   "metadata": {},
   "source": [
    "#### Always change the working directory to the package\n",
    "\n",
    "#### Jupter notebook is set to use root of file system as original default;"
   ]
  },
  {
   "cell_type": "code",
   "execution_count": 14,
   "metadata": {},
   "outputs": [
    {
     "name": "stdout",
     "output_type": "stream",
     "text": [
      "/home/jupyter/quandl\n"
     ]
    },
    {
     "data": {
      "text/plain": [
       "'/home/jupyter/quandl'"
      ]
     },
     "execution_count": 14,
     "metadata": {},
     "output_type": "execute_result"
    }
   ],
   "source": [
    "%cd /home/jupyter/quandl\n",
    "%pwd"
   ]
  },
  {
   "cell_type": "markdown",
   "metadata": {},
   "source": [
    "#### Set the required paramters of `extraction.py`:\n",
    "\n",
    "Reference of required parameters can be found in `init.py` files in the package directory under `yitian`\n",
    "\n",
    "| parameter     | example          |  description                             |\n",
    "|---------------|------------------|------------------------------------------|\n",
    "| year          | 2020             | the target year for data extraction      |\n",
    "| db_name       | 'NASDAQOMX'      | the data base code from quandl           |\n",
    "| ds_name       | 'XQC'            | the data set code from quandl            |\n",
    "| output_dw_dir | 'commodity/opec' | the sub-dir in data warehouse for output |"
   ]
  },
  {
   "cell_type": "code",
   "execution_count": 16,
   "metadata": {},
   "outputs": [],
   "source": [
    "year = 2000\n",
    "db_name = 'NASDAQOMX'\n",
    "ds_name = 'XQC'\n",
    "output_dw_dir = 'equity/nasdaq'"
   ]
  },
  {
   "cell_type": "code",
   "execution_count": 17,
   "metadata": {},
   "outputs": [
    {
     "name": "stderr",
     "output_type": "stream",
     "text": [
      "ERROR:root:File `'notebooks/ETL//extraction.py'` not found.\n"
     ]
    }
   ],
   "source": [
    "%run -i 'notebooks/ETL/quandl/extraction.py'"
   ]
  },
  {
   "cell_type": "code",
   "execution_count": null,
   "metadata": {},
   "outputs": [],
   "source": []
  }
 ],
 "metadata": {
  "kernelspec": {
   "display_name": "Python 3",
   "language": "python",
   "name": "python3"
  },
  "language_info": {
   "codemirror_mode": {
    "name": "ipython",
    "version": 3
   },
   "file_extension": ".py",
   "mimetype": "text/x-python",
   "name": "python",
   "nbconvert_exporter": "python",
   "pygments_lexer": "ipython3",
   "version": "3.7.6"
  }
 },
 "nbformat": 4,
 "nbformat_minor": 4
}
