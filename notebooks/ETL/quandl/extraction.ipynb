{
 "cells": [
  {
   "cell_type": "markdown",
   "metadata": {},
   "source": [
    "#### Always change the working directory to the package\n",
    "\n",
    "#### Jupter notebook is set to use root of file system as original default;"
   ]
  },
  {
   "cell_type": "code",
   "execution_count": 28,
   "metadata": {},
   "outputs": [
    {
     "name": "stdout",
     "output_type": "stream",
     "text": [
      "/home/jupyter/quandl\n"
     ]
    },
    {
     "data": {
      "text/plain": [
       "'/home/jupyter/quandl'"
      ]
     },
     "execution_count": 28,
     "metadata": {},
     "output_type": "execute_result"
    }
   ],
   "source": [
    "%cd /home/jupyter/quandl\n",
    "%pwd"
   ]
  },
  {
   "cell_type": "markdown",
   "metadata": {},
   "source": [
    "#### Set the required paramters of `extraction.py`:\n",
    "\n",
    "Reference of required parameters can be found in `init.py` files in the package directory under `yitian`\n",
    "\n",
    "| parameter     | example          |  description                             |\n",
    "|---------------|------------------|------------------------------------------|\n",
    "| year          | 2020             | the target year for data extraction      |\n",
    "| db_name       | 'NASDAQOMX'      | the data base code from quandl           |\n",
    "| ds_name       | 'XQC'            | the data set code from quandl            |\n",
    "| output_dw_dir | 'commodity/opec' | the sub-dir in data warehouse for output |"
   ]
  },
  {
   "cell_type": "code",
   "execution_count": 49,
   "metadata": {},
   "outputs": [],
   "source": [
    "from datetime import datetime\n",
    "\n",
    "from yitian.datasource.quandl import nasdaq, opec"
   ]
  },
  {
   "cell_type": "markdown",
   "metadata": {},
   "source": [
    "### For example, the following setting updates NASDAQ XQC index in 2020"
   ]
  },
  {
   "cell_type": "code",
   "execution_count": 50,
   "metadata": {},
   "outputs": [
    {
     "name": "stdout",
     "output_type": "stream",
     "text": [
      "2020-03-08 04:11:41.687724\n"
     ]
    }
   ],
   "source": [
    "# Recently executed on\n",
    "print(datetime.now())\n",
    "\n",
    "year = 2020\n",
    "db_name = nasdaq.NASDAQ_DATABASE_CODE\n",
    "ds_name = nasdaq.DATASET_CODE_MAP['settlement_value']\n",
    "output_dw_dir = 'equity/nasdaq/settlement_value'"
   ]
  },
  {
   "cell_type": "code",
   "execution_count": 51,
   "metadata": {},
   "outputs": [
    {
     "name": "stdout",
     "output_type": "stream",
     "text": [
      "The start date is set to 2020-01-01 & The end date is set to 2020-12-31\n",
      "('id', 41168791)\n",
      "('dataset_code', 'XQC')\n",
      "('database_code', 'NASDAQOMX')\n",
      "('name', 'NASDAQ-100 PM Settlement Value (XQC)')\n",
      "('description', 'For detailed information, see <a href=https://indexes.nasdaqomx.com/Index/Overview/XQC>https://indexes.nasdaqomx.com/Index/Overview/XQC</a>')\n",
      "('refreshed_at', '2020-03-07T06:02:27.171Z')\n",
      "('newest_available_date', '2020-03-06')\n",
      "('oldest_available_date', '2016-12-19')\n",
      "('column_names', ['Trade Date', 'Index Value', 'High', 'Low', 'Total Market Value', 'Dividend Market Value'])\n",
      "('frequency', 'daily')\n",
      "('type', 'Time Series')\n",
      "('premium', False)\n",
      "('database_id', 10471)\n",
      "2020-01-01_2020-03-06_daily.csv has been overwrite to gs://zhongyuan-dw/equity/nasdaq/settlement_value/2020/2020-01-01_2020-03-06_daily.csv\n"
     ]
    }
   ],
   "source": [
    "%run -i 'notebooks/ETL/quandl/extraction.py'"
   ]
  },
  {
   "cell_type": "markdown",
   "metadata": {},
   "source": [
    "### For example, the following setting updates OPEC oil price in 2020"
   ]
  },
  {
   "cell_type": "code",
   "execution_count": 54,
   "metadata": {},
   "outputs": [
    {
     "name": "stdout",
     "output_type": "stream",
     "text": [
      "2020-03-08 04:13:25.033515\n"
     ]
    }
   ],
   "source": [
    "# Recently executed on\n",
    "print(datetime.now())\n",
    "\n",
    "year = 2020\n",
    "db_name = opec.OPEC_DATABASE_CODE\n",
    "ds_name = opec.OPEC_DATASET_CODE\n",
    "output_dw_dir = 'commodity/opec'"
   ]
  },
  {
   "cell_type": "code",
   "execution_count": 55,
   "metadata": {},
   "outputs": [
    {
     "name": "stdout",
     "output_type": "stream",
     "text": [
      "The start date is set to 2020-01-01 & The end date is set to 2020-12-31\n",
      "('id', 2288715)\n",
      "('dataset_code', 'ORB')\n",
      "('database_code', 'OPEC')\n",
      "('name', 'OPEC Crude Oil Price')\n",
      "('description', 'Reference Price for the OPEC Crude Oil Basket.  Currently includes: Saharan Blend (Algeria), Girassol (Angola), Oriente (Ecuador), Iran Heavy (Islamic Republic of Iran), Basra Light (Iraq), Kuwait Export (Kuwait), Es Sider (Libya), Bonny Light (Nigeria), Qatar Marine (Qatar), Arab Light (Saudi Arabia), Murban (UAE) and Merey (Venezuela).')\n",
      "('refreshed_at', '2020-03-06T12:25:32.575Z')\n",
      "('newest_available_date', '2020-03-05')\n",
      "('oldest_available_date', '2003-01-02')\n",
      "('column_names', ['Date', 'Value'])\n",
      "('frequency', 'daily')\n",
      "('type', 'Time Series')\n",
      "('premium', False)\n",
      "('database_id', 381)\n",
      "2020-01-01_2020-03-05_daily.csv has been overwrite to gs://zhongyuan-dw/commodity/opec/2020/2020-01-01_2020-03-05_daily.csv\n"
     ]
    }
   ],
   "source": [
    "%run -i 'notebooks/ETL/quandl/extraction.py'"
   ]
  },
  {
   "cell_type": "code",
   "execution_count": null,
   "metadata": {},
   "outputs": [],
   "source": []
  }
 ],
 "metadata": {
  "kernelspec": {
   "display_name": "Python 3",
   "language": "python",
   "name": "python3"
  },
  "language_info": {
   "codemirror_mode": {
    "name": "ipython",
    "version": 3
   },
   "file_extension": ".py",
   "mimetype": "text/x-python",
   "name": "python",
   "nbconvert_exporter": "python",
   "pygments_lexer": "ipython3",
   "version": "3.7.6"
  }
 },
 "nbformat": 4,
 "nbformat_minor": 4
}
