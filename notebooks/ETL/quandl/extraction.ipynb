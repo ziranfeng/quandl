{
 "cells": [
  {
   "cell_type": "markdown",
   "metadata": {},
   "source": [
    "#### Always change the working directory to the package\n",
    "\n",
    "#### Jupter notebook is set to use root of file system as original default;"
   ]
  },
  {
   "cell_type": "code",
   "execution_count": 23,
   "metadata": {},
   "outputs": [
    {
     "name": "stdout",
     "output_type": "stream",
     "text": [
      "/home/jupyter/quandl\n"
     ]
    },
    {
     "data": {
      "text/plain": [
       "'/home/jupyter/quandl'"
      ]
     },
     "execution_count": 23,
     "metadata": {},
     "output_type": "execute_result"
    }
   ],
   "source": [
    "%cd /home/jupyter/quandl\n",
    "%pwd"
   ]
  },
  {
   "cell_type": "markdown",
   "metadata": {},
   "source": [
    "#### Set the required paramters of `extraction.py`:\n",
    "\n",
    "Reference of required parameters can be found in `init.py` files in the package directory under `yitian`\n",
    "\n",
    "| parameter     | example          |  description                             |\n",
    "|---------------|------------------|------------------------------------------|\n",
    "| year          | 2020             | the target year for data extraction      |\n",
    "| db_name       | 'NASDAQOMX'      | the data base code from quandl           |\n",
    "| ds_name       | 'XQC'            | the data set code from quandl            |\n",
    "| output_dw_dir | 'commodity/opec' | the sub-dir in data warehouse for output |"
   ]
  },
  {
   "cell_type": "code",
   "execution_count": 26,
   "metadata": {},
   "outputs": [],
   "source": [
    "year = 2000\n",
    "db_name = 'NASDAQOMX'\n",
    "ds_name = 'XQC'\n",
    "output_dw_dir = 'equity/nasdaq'"
   ]
  },
  {
   "cell_type": "code",
   "execution_count": 27,
   "metadata": {},
   "outputs": [
    {
     "name": "stdout",
     "output_type": "stream",
     "text": [
      "The start date is set to 2000-01-01 & The end date is set to 2000-12-31\n",
      "('id', 41168791)\n",
      "('dataset_code', 'XQC')\n",
      "('database_code', 'NASDAQOMX')\n",
      "('name', 'NASDAQ-100 PM Settlement Value (XQC)')\n",
      "('description', 'For detailed information, see <a href=https://indexes.nasdaqomx.com/Index/Overview/XQC>https://indexes.nasdaqomx.com/Index/Overview/XQC</a>')\n",
      "('refreshed_at', '2020-03-07T06:02:27.171Z')\n",
      "('newest_available_date', '2020-03-06')\n",
      "('oldest_available_date', '2016-12-19')\n",
      "('column_names', ['Trade Date', 'Index Value', 'High', 'Low', 'Total Market Value', 'Dividend Market Value'])\n",
      "('frequency', 'daily')\n",
      "('type', 'Time Series')\n",
      "('premium', False)\n",
      "('database_id', 10471)\n"
     ]
    },
    {
     "ename": "ValueError",
     "evalue": "User defined start date 2000-01-01 needs to be larger than the oldest available date 2016-12-19",
     "output_type": "error",
     "traceback": [
      "\u001b[0;31m---------------------------------------------------------------------------\u001b[0m",
      "\u001b[0;31mValueError\u001b[0m                                Traceback (most recent call last)",
      "\u001b[0;32m~/quandl/notebooks/ETL/quandl/extraction.py\u001b[0m in \u001b[0;36m<module>\u001b[0;34m\u001b[0m\n\u001b[1;32m     46\u001b[0m         raise ValueError(\"User defined start date {start_date} needs to be larger than \"\n\u001b[1;32m     47\u001b[0m                          \u001b[0;34m\"the oldest available date {oldest_available_date}\"\u001b[0m\u001b[0;34m\u001b[0m\u001b[0;34m\u001b[0m\u001b[0m\n\u001b[0;32m---> 48\u001b[0;31m                          .format(start_date=start_date, oldest_available_date=oldest_available_date))\n\u001b[0m\u001b[1;32m     49\u001b[0m \u001b[0;34m\u001b[0m\u001b[0m\n\u001b[1;32m     50\u001b[0m \u001b[0;32mif\u001b[0m \u001b[0mdt\u001b[0m\u001b[0;34m.\u001b[0m\u001b[0mstrptime\u001b[0m\u001b[0;34m(\u001b[0m\u001b[0mend_date\u001b[0m\u001b[0;34m,\u001b[0m \u001b[0;34m\"%Y-%m-%d\"\u001b[0m\u001b[0;34m)\u001b[0m \u001b[0;34m>\u001b[0m \u001b[0mdt\u001b[0m\u001b[0;34m.\u001b[0m\u001b[0mstrptime\u001b[0m\u001b[0;34m(\u001b[0m\u001b[0mnewest_available_date\u001b[0m\u001b[0;34m,\u001b[0m \u001b[0;34m\"%Y-%m-%d\"\u001b[0m\u001b[0;34m)\u001b[0m\u001b[0;34m:\u001b[0m\u001b[0;34m\u001b[0m\u001b[0;34m\u001b[0m\u001b[0m\n",
      "\u001b[0;31mValueError\u001b[0m: User defined start date 2000-01-01 needs to be larger than the oldest available date 2016-12-19"
     ]
    }
   ],
   "source": [
    "%run -i 'notebooks/ETL/quandl/extraction.py'"
   ]
  },
  {
   "cell_type": "code",
   "execution_count": 22,
   "metadata": {},
   "outputs": [
    {
     "data": {
      "text/plain": [
       "'equity/nasdaq'"
      ]
     },
     "execution_count": 22,
     "metadata": {},
     "output_type": "execute_result"
    }
   ],
   "source": [
    "output_dw_dir"
   ]
  },
  {
   "cell_type": "code",
   "execution_count": null,
   "metadata": {},
   "outputs": [],
   "source": []
  }
 ],
 "metadata": {
  "kernelspec": {
   "display_name": "Python 3",
   "language": "python",
   "name": "python3"
  },
  "language_info": {
   "codemirror_mode": {
    "name": "ipython",
    "version": 3
   },
   "file_extension": ".py",
   "mimetype": "text/x-python",
   "name": "python",
   "nbconvert_exporter": "python",
   "pygments_lexer": "ipython3",
   "version": "3.7.6"
  }
 },
 "nbformat": 4,
 "nbformat_minor": 4
}
