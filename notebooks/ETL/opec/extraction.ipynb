{
 "cells": [
  {
   "cell_type": "code",
   "execution_count": 1,
   "metadata": {},
   "outputs": [],
   "source": [
    "import requests\n",
    "import pandas as pd\n",
    "\n",
    "from yitian.datasource import DATA_WAREHOUSE_LOC\n",
    "from yitian.datasource.quandl import QUANDL_API_VERSION, QUANDL_API_HTTPS, QUANDL_API_KEY, COMMODITY\n",
    "from yitian.datasource.quandl.opec import OPEC_DATABASE_CODE, OPEC_DATASET_CODE"
   ]
  },
  {
   "cell_type": "code",
   "execution_count": 2,
   "metadata": {},
   "outputs": [],
   "source": [
    "# required parameters\n",
    "start_date = '2000-01-01'\n",
    "end_date = '2020-01-01'\n",
    "\n",
    "# optional parameters\n",
    "return_format = locals().get(\"return_format\", \"json\")"
   ]
  },
  {
   "cell_type": "code",
   "execution_count": 3,
   "metadata": {},
   "outputs": [],
   "source": [
    "call = \"\"\"\n",
    "{quan_api_https}/{version}/datasets/{db_name}/{ds_name}?start_date={start_date}&end_date={end_date}&api_key={api_key}\n",
    "\"\"\".format(quan_api_https=QUANDL_API_HTTPS,\n",
    "           version=QUANDL_API_VERSION,\n",
    "           db_name=OPEC_DATABASE_CODE,\n",
    "           ds_name=OPEC_DATASET_CODE,\n",
    "           return_format=return_format,\n",
    "           start_date=start_date,\n",
    "           end_date=end_date,\n",
    "           api_key=QUANDL_API_KEY)\n"
   ]
  },
  {
   "cell_type": "code",
   "execution_count": 4,
   "metadata": {},
   "outputs": [],
   "source": [
    "extraction = requests.get(call.replace(\"\\n\", \"\")).json()"
   ]
  },
  {
   "cell_type": "code",
   "execution_count": 6,
   "metadata": {},
   "outputs": [
    {
     "name": "stdout",
     "output_type": "stream",
     "text": [
      "dict_keys(['database_id', 'database_code', 'start_date', 'name', 'description', 'collapse', 'refreshed_at', 'id', 'type', 'column_index', 'dataset_code', 'data', 'column_names', 'newest_available_date', 'end_date', 'frequency', 'transform', 'premium', 'order', 'limit', 'oldest_available_date'])\n"
     ]
    }
   ],
   "source": [
    "print(extraction['dataset'].keys())"
   ]
  },
  {
   "cell_type": "code",
   "execution_count": 7,
   "metadata": {},
   "outputs": [],
   "source": [
    "opec_pd = pd.DataFrame(data=extraction['dataset']['data'],\n",
    "                       columns=extraction['dataset']['column_names'])"
   ]
  },
  {
   "cell_type": "code",
   "execution_count": 8,
   "metadata": {},
   "outputs": [],
   "source": [
    "opec_pd.sort_values('Date', ascending=True, inplace=True)"
   ]
  },
  {
   "cell_type": "code",
   "execution_count": 13,
   "metadata": {},
   "outputs": [],
   "source": [
    "outfile_name = \"opec_crude_oil_{frequency}_{start}_{end}\".format(frequency=extraction['dataset']['frequency'], start=extraction['dataset']['start_date'], end=extraction['dataset']['end_date'])\n",
    "output_dir = \"{dw_loc}/{commodity}/opec/{outfile_name}.csv\".format(dw_loc=DATA_WAREHOUSE_LOC, commodity=COMMODITY, outfile_name=outfile_name)"
   ]
  },
  {
   "cell_type": "code",
   "execution_count": 18,
   "metadata": {},
   "outputs": [],
   "source": [
    "example_pd = opec_pd.to_csv(output_dir, header=True, mode='w', encoding='utf-8')"
   ]
  },
  {
   "cell_type": "code",
   "execution_count": null,
   "metadata": {},
   "outputs": [],
   "source": [
    "opec_pd.head(5)"
   ]
  },
  {
   "cell_type": "code",
   "execution_count": null,
   "metadata": {},
   "outputs": [],
   "source": [
    "opec_pd.describe()"
   ]
  },
  {
   "cell_type": "code",
   "execution_count": 15,
   "metadata": {},
   "outputs": [
    {
     "data": {
      "text/plain": [
       "('2003-01-02', '2019-12-31')"
      ]
     },
     "execution_count": 15,
     "metadata": {},
     "output_type": "execute_result"
    }
   ],
   "source": [
    "opec_pd['Date'].min(), opec_pd['Date'].max()"
   ]
  },
  {
   "cell_type": "code",
   "execution_count": 21,
   "metadata": {},
   "outputs": [
    {
     "name": "stdout",
     "output_type": "stream",
     "text": [
      "\n",
      "Data Extracted From OPEC Crude Oil Price;\n",
      "Described as: Reference Price for the OPEC Crude Oil Basket.  Currently includes: Saharan Blend (Algeria), Girassol (Angola), Oriente (Ecuador), Iran Heavy (Islamic Republic of Iran), Basra Light (Iraq), Kuwait Export (Kuwait), Es Sider (Libya), Bonny Light (Nigeria), Qatar Marine (Qatar), Arab Light (Saudi Arabia), Murban (UAE) and Merey (Venezuela).;\n",
      "Start from 2003-01-02 & End at 2020-01-01;\n",
      "Oldest Available on 2003-01-02 & Newest Available on 2020-02-20;\n",
      "Data Frequency is daily;\n",
      "\n"
     ]
    }
   ],
   "source": [
    "extraction_summary = \"\"\"\n",
    "Data Extracted From {name};\n",
    "Described as: {description};\n",
    "Start from {start} & End at {end};\n",
    "Oldest Available on {oa} & Newest Available on {na};\n",
    "Data Frequency is {frequency};\n",
    "\"\"\".format(\n",
    "    name=extraction['dataset']['name'],\n",
    "    description=extraction['dataset']['description'],\n",
    "    start=extraction['dataset']['start_date'],\n",
    "    end=extraction['dataset']['end_date'],\n",
    "    oa=extraction['dataset']['oldest_available_date'],\n",
    "    na=extraction['dataset']['newest_available_date'],\n",
    "    frequency=extraction['dataset']['frequency']\n",
    ")\n",
    "print(extraction_summary)"
   ]
  }
 ],
 "metadata": {
  "kernelspec": {
   "display_name": "Python 3",
   "language": "python",
   "name": "python3"
  },
  "language_info": {
   "codemirror_mode": {
    "name": "ipython",
    "version": 3
   },
   "file_extension": ".py",
   "mimetype": "text/x-python",
   "name": "python",
   "nbconvert_exporter": "python",
   "pygments_lexer": "ipython3",
   "version": "3.5.3"
  }
 },
 "nbformat": 4,
 "nbformat_minor": 4
}
