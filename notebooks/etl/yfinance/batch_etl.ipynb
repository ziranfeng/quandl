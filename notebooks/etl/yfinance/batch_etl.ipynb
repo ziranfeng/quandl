{
 "cells": [
  {
   "cell_type": "code",
   "execution_count": null,
   "metadata": {
    "scrolled": false
   },
   "outputs": [],
   "source": [
    "# Due to the file system setting of the Jupyter Notebook, navigate to the package to use infra\n",
    "%cd /home/jupyter/quant"
   ]
  },
  {
   "cell_type": "markdown",
   "metadata": {},
   "source": [
    "### Batch Extract & Load Stock Price Data into GCP Cloud Storage and mySQL"
   ]
  },
  {
   "cell_type": "code",
   "execution_count": null,
   "metadata": {},
   "outputs": [],
   "source": [
    "from datetime import datetime\n",
    "import pandas as pd\n",
    "import pymysql\n",
    "from yitian.datasource import *\n",
    "\n",
    "# Set up cloud sql connections\n",
    "password = ''\n",
    "connection = pymysql.connect(host=PRIVATE_HOST,\n",
    "                             user=USER,\n",
    "                             password=password,\n",
    "                             db=DATABASE)"
   ]
  },
  {
   "cell_type": "code",
   "execution_count": null,
   "metadata": {},
   "outputs": [],
   "source": [
    "# Set up default and optional parameters\n",
    "nasdaq_pd = pd.read_sql(\"SELECT * FROM quant.nasdaq\", connection)\n",
    "nasdaq_tickers = nasdaq_pd.symbol\n",
    "\n",
    "password = ''\n",
    "period = 'max'\n",
    "interval = '1d'\n",
    "date_col = 'Date'\n",
    "output_file = 'daily.csv'\n",
    "\n",
    "instance = INSTANCE\n",
    "database = DATABASE\n",
    "table = STOCK_DAILY\n",
    "\n",
    "# Check the consistency of variables between daily and hourly extractions\n",
    "if interval == '60m':\n",
    "    if ((period in ['5y', '10y', 'max']) | (date_col != 'Datetime') | (output_file != 'hourly.csv') | (table != STOCK_HOURLY)):\n",
    "    raise ValueError(f\"When Interval is '60m', period, date_col, output_file and table have to be set accordingly\")"
   ]
  },
  {
   "cell_type": "code",
   "execution_count": null,
   "metadata": {
    "scrolled": true
   },
   "outputs": [],
   "source": [
    "# Extract data to GCP cloud storage and load to mySQL\n",
    "start = datetime.now()\n",
    "for t in nasdaq_tickers:\n",
    "    ticker = t\n",
    "    %run -i 'notebooks/etl/yfinance/stock_price_etl.py'\n",
    "    \n",
    "    print(\"{ticker} ETL is finished in {time}\".format(ticker=ticker, time=start - datetime.now()))"
   ]
  },
  {
   "cell_type": "code",
   "execution_count": null,
   "metadata": {},
   "outputs": [],
   "source": [
    "# Close connection\n",
    "connection.close()"
   ]
  }
 ],
 "metadata": {
  "kernelspec": {
   "display_name": "Python 3",
   "language": "python",
   "name": "python3"
  },
  "language_info": {
   "codemirror_mode": {
    "name": "ipython",
    "version": 3
   },
   "file_extension": ".py",
   "mimetype": "text/x-python",
   "name": "python",
   "nbconvert_exporter": "python",
   "pygments_lexer": "ipython3",
   "version": "3.7.6"
  }
 },
 "nbformat": 4,
 "nbformat_minor": 4
}
