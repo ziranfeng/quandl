{
 "cells": [
  {
   "cell_type": "code",
   "execution_count": null,
   "metadata": {
    "scrolled": false
   },
   "outputs": [],
   "source": [
    "# Due to the file system setting of the Jupyter Notebook, navigate to the package to use infra\n",
    "%cd /home/jupyter/quant"
   ]
  },
  {
   "cell_type": "markdown",
   "metadata": {},
   "source": [
    "## Batch ETL Historical Daily & Hourly Stock Price Data"
   ]
  },
  {
   "cell_type": "code",
   "execution_count": null,
   "metadata": {},
   "outputs": [],
   "source": [
    "from datetime import datetime\n",
    "import pandas as pd\n",
    "import pymysql\n",
    "from yitian.datasource import *\n",
    "\n",
    "# Set up cloud sql connections\n",
    "password = ''\n",
    "connection = pymysql.connect(host=PRIVATE_HOST,\n",
    "                             user=USER,\n",
    "                             password=password,\n",
    "                             db=DATABASE)"
   ]
  },
  {
   "cell_type": "code",
   "execution_count": null,
   "metadata": {},
   "outputs": [],
   "source": [
    "# Grab tickers from dim tables\n",
    "nasdaq_pd = pd.read_sql(\"SELECT * FROM quant.nasdaq\", connection)\n",
    "nasdaq_tickers = nasdaq_pd.symbol\n",
    "\n",
    "nyse_pd = pd.read_sql(\"SELECT * FROM quant.nyse\", connection)\n",
    "nyse_tickers = nyse_pd.symbol\n"
   ]
  },
  {
   "cell_type": "markdown",
   "metadata": {},
   "source": [
    "#### Batch Update Historical Daily & Hourly Stock Price Data into GCP Cloud Storage and mySQL"
   ]
  },
  {
   "cell_type": "code",
   "execution_count": null,
   "metadata": {
    "scrolled": true
   },
   "outputs": [],
   "source": [
    "# Extract data to GCP cloud storage and load to mySQL\n",
    "\n",
    "stop_year = 2020\n",
    "mode = 'update'\n",
    "\n",
    "for t in nasdaq_tickers:\n",
    "    ticker = t\n",
    "    \n",
    "    with connection.cursor() as cursor:\n",
    "        cursor.execute(f\" DELETE FROM stock_daily WHERE ticker='{ticker}' AND year={str(stop_year)};\")\n",
    "        cursor.execute(f\" DELETE FROM stock_hourly WHERE ticker='{ticker}' AND year={str(stop_year)};\")\n",
    "        \n",
    "        connection.commit()\n",
    " \n",
    "    ticker = t\n",
    "    \n",
    "    %run -i 'notebooks/etl/yfinance/batch_etl.py'"
   ]
  },
  {
   "cell_type": "code",
   "execution_count": null,
   "metadata": {},
   "outputs": [],
   "source": [
    "# Close connection\n",
    "connection.close()"
   ]
  },
  {
   "cell_type": "markdown",
   "metadata": {},
   "source": [
    "#### Batch Extract, Transform & Load Historical Daily & Hourly Stock Price Data into GCP Cloud Storage and mySQL"
   ]
  },
  {
   "cell_type": "code",
   "execution_count": null,
   "metadata": {},
   "outputs": [],
   "source": [
    "# ETL historical daily * hourly stock data before 2020\n",
    "\n",
    "stop_year = 2020\n",
    "mode = 'history'\n",
    "\n",
    "for t in nasdaq_tickers:\n",
    "    \n",
    "    ticker = t\n",
    "    \n",
    "    %run -i 'notebooks/etl/yfinance/batch_etl.py'"
   ]
  }
 ],
 "metadata": {
  "kernelspec": {
   "display_name": "Python 3",
   "language": "python",
   "name": "python3"
  },
  "language_info": {
   "codemirror_mode": {
    "name": "ipython",
    "version": 3
   },
   "file_extension": ".py",
   "mimetype": "text/x-python",
   "name": "python",
   "nbconvert_exporter": "python",
   "pygments_lexer": "ipython3",
   "version": "3.7.6"
  }
 },
 "nbformat": 4,
 "nbformat_minor": 4
}
