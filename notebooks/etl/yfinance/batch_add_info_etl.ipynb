{
 "cells": [
  {
   "cell_type": "code",
   "execution_count": 5,
   "metadata": {},
   "outputs": [
    {
     "name": "stdout",
     "output_type": "stream",
     "text": [
      "/home/jupyter/quant\n"
     ]
    }
   ],
   "source": [
    "# Due to the file system setting of the Jupyter Notebook, navigate to the package to use infra\n",
    "%cd /home/jupyter/quant"
   ]
  },
  {
   "cell_type": "markdown",
   "metadata": {},
   "source": [
    "## Batch ETL Stock's Additional Info"
   ]
  },
  {
   "cell_type": "code",
   "execution_count": 6,
   "metadata": {},
   "outputs": [],
   "source": [
    "from datetime import datetime\n",
    "import pandas as pd\n",
    "import pymysql\n",
    "from yitian.datasource import *\n",
    "\n",
    "# Set up cloud sql connections\n",
    "password = ''\n",
    "connection = pymysql.connect(host=PRIVATE_HOST,\n",
    "                             user=USER,\n",
    "                             password=password,\n",
    "                             db=DATABASE)"
   ]
  },
  {
   "cell_type": "code",
   "execution_count": 9,
   "metadata": {},
   "outputs": [],
   "source": [
    "# Grab tickers from dim tables\n",
    "nasdaq_pd = pd.read_sql(\"SELECT * FROM quant.nasdaq\", connection)\n",
    "nasdaq_tickers = nasdaq_pd.symbol\n",
    "\n",
    "nyse_pd = pd.read_sql(\"SELECT * FROM quant.nyse\", connection)\n",
    "nyse_tickers = nyse_pd.symbol\n"
   ]
  },
  {
   "cell_type": "code",
   "execution_count": null,
   "metadata": {},
   "outputs": [],
   "source": [
    "# ETL stock historical additional info\n",
    "\n",
    "tickers = nasdaq_tickers\n",
    "\n",
    "for t in tickers:\n",
    "    \n",
    "    ticker = t\n",
    "    \n",
    "    %run -i 'notebooks/etl/yfinance/add_info_etl.py'"
   ]
  }
 ],
 "metadata": {
  "kernelspec": {
   "display_name": "Python 3",
   "language": "python",
   "name": "python3"
  },
  "language_info": {
   "codemirror_mode": {
    "name": "ipython",
    "version": 3
   },
   "file_extension": ".py",
   "mimetype": "text/x-python",
   "name": "python",
   "nbconvert_exporter": "python",
   "pygments_lexer": "ipython3",
   "version": "3.7.6"
  }
 },
 "nbformat": 4,
 "nbformat_minor": 4
}
