{
 "cells": [
  {
   "cell_type": "code",
   "execution_count": 1,
   "metadata": {},
   "outputs": [
    {
     "name": "stdout",
     "output_type": "stream",
     "text": [
      "/home/jupyter/quant\n"
     ]
    }
   ],
   "source": [
    "# Due to the file system setting of the Jupyter Notebook, navigate to the package to use infra\n",
    "%cd /home/jupyter/quant"
   ]
  },
  {
   "cell_type": "markdown",
   "metadata": {},
   "source": [
    "## Batch Process Historical Daily & Hourly Stock Data"
   ]
  },
  {
   "cell_type": "code",
   "execution_count": 2,
   "metadata": {},
   "outputs": [],
   "source": [
    "import pandas as pd\n",
    "import pymysql\n",
    "from yitian.datasource import *\n",
    "\n",
    "# Set up cloud sql connections\n",
    "password = ''\n",
    "database = EQUITY\n",
    "connection = pymysql.connect(host=PRIVATE_HOST,\n",
    "                             user=USER,\n",
    "                             password=password,\n",
    "                             db=database)\n"
   ]
  },
  {
   "cell_type": "code",
   "execution_count": 6,
   "metadata": {},
   "outputs": [],
   "source": [
    "# Grab tickers from dim tables\n",
    "nasdaq_pd = pd.read_sql(\"SELECT * FROM equity.nasdaq\", connection)\n",
    "nasdaq_tickers = nasdaq_pd.symbol\n",
    "\n",
    "nyse_pd = pd.read_sql(\"SELECT * FROM equity.nyse\", connection)\n",
    "nyse_tickers = nyse_pd.symbol\n",
    "\n",
    "# updates ticker in 'tickers'\n",
    "tickers = nasdaq_tickers"
   ]
  },
  {
   "cell_type": "markdown",
   "metadata": {},
   "source": [
    "#### UPDATING - ETL daily & hourly stock data into GCP Cloud Storage and mySQL"
   ]
  },
  {
   "cell_type": "code",
   "execution_count": null,
   "metadata": {
    "scrolled": true
   },
   "outputs": [],
   "source": [
    "# ETL current year daily & hourly stock data\n",
    "\n",
    "current_year = 2020\n",
    "mode = 'update'\n",
    "\n",
    "for t in tickers:\n",
    "    ticker = t\n",
    "    \n",
    "    with connection.cursor() as cursor:\n",
    "        cursor.execute(f\" DELETE FROM stock_daily WHERE ticker='{ticker}' AND year={str(current_year)};\")\n",
    "        cursor.execute(f\" DELETE FROM stock_hourly WHERE ticker='{ticker}' AND year={str(current_year)};\")\n",
    "    \n",
    "        connection.commit()\n",
    "    \n",
    "    %run -i 'notebooks/etl/yfinance/stock_etl.py'\n",
    "    "
   ]
  },
  {
   "cell_type": "code",
   "execution_count": null,
   "metadata": {},
   "outputs": [],
   "source": [
    "# Close connection\n",
    "connection.close()"
   ]
  },
  {
   "cell_type": "markdown",
   "metadata": {},
   "source": [
    "#### HISTORICAL - ETL daily & hourly stock data into Cloud Storage and mySQL"
   ]
  },
  {
   "cell_type": "code",
   "execution_count": null,
   "metadata": {},
   "outputs": [],
   "source": [
    "# ETL historical daily & hourly stock data before current_year\n",
    "tickers = nasdaq_tickers\n",
    "\n",
    "current_year = 2020\n",
    "mode = 'history'\n",
    "\n",
    "for t in tickers:\n",
    "    \n",
    "    ticker = t\n",
    "    \n",
    "    %run -i 'notebooks/etl/yfinance/stock_etl.py'\n",
    "    "
   ]
  }
 ],
 "metadata": {
  "kernelspec": {
   "display_name": "Python 3",
   "language": "python",
   "name": "python3"
  },
  "language_info": {
   "codemirror_mode": {
    "name": "ipython",
    "version": 3
   },
   "file_extension": ".py",
   "mimetype": "text/x-python",
   "name": "python",
   "nbconvert_exporter": "python",
   "pygments_lexer": "ipython3",
   "version": "3.7.6"
  }
 },
 "nbformat": 4,
 "nbformat_minor": 4
}
