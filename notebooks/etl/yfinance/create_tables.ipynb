{
 "cells": [
  {
   "cell_type": "code",
   "execution_count": null,
   "metadata": {},
   "outputs": [],
   "source": [
    "# Due to the file system setting of the Jupyter Notebook, navigate to the package to use infra\n",
    "%cd /home/jupyter/quant"
   ]
  },
  {
   "cell_type": "markdown",
   "metadata": {},
   "source": [
    "### The script contains the initial `CREATE TABLE` commands for database"
   ]
  },
  {
   "cell_type": "code",
   "execution_count": null,
   "metadata": {},
   "outputs": [],
   "source": [
    "# Set up mysql connection\n",
    "import pymysql\n",
    "\n",
    "from yitian.datasource import *\n",
    "\n",
    "# Set up cloud sql connections\n",
    "password = locals().get('password', 'jinyongwuxia')\n",
    "\n",
    "connection = pymysql.connect(host=PRIVATE_HOST,\n",
    "                             user=USER,\n",
    "                             password=password,\n",
    "                             db=DATABASE)"
   ]
  },
  {
   "cell_type": "markdown",
   "metadata": {},
   "source": [
    "#### Define the target sql query first"
   ]
  },
  {
   "cell_type": "code",
   "execution_count": null,
   "metadata": {},
   "outputs": [],
   "source": [
    "# # Create NASDAQ ticker table\n",
    "# sql = \"\"\"\n",
    "#         CREATE TABLE IF NOT EXISTS nasdaq(\n",
    "#             symbol VARCHAR(10),\n",
    "#             name VARCHAR(75),\n",
    "#             marketcap VARCHAR(10),\n",
    "#             ipo_year INT,\n",
    "#             sector VARCHAR(25),\n",
    "#             industry VARCHAR(50),\n",
    "#             summary VARCHAR(100),\n",
    "#             updated_at TIMESTAMP DEFAULT CURRENT_TIMESTAMP NOT NULL,\n",
    "#         PRIMARY KEY(symbol));\n",
    "#     \"\"\"\n",
    "\n",
    "# # Create NYSE ticker table\n",
    "# sql = \"\"\"\n",
    "#         CREATE TABLE IF NOT EXISTS nyse(\n",
    "#             symbol VARCHAR(10),\n",
    "#             name VARCHAR(75),\n",
    "#             marketcap VARCHAR(10),\n",
    "#             ipo_year INT,\n",
    "#             sector VARCHAR(25),\n",
    "#             industry VARCHAR(50),\n",
    "#             summary VARCHAR(100),\n",
    "#             updated_at TIMESTAMP DEFAULT CURRENT_TIMESTAMP NOT NULL,\n",
    "#         PRIMARY KEY(symbol));\n",
    "#         \"\"\"\n",
    "\n",
    "# Create NASDAQ Stock History Daily table\n",
    "sql = \"\"\"\n",
    "        CREATE TABLE IF NOT EXISTS nasdaq_daily(\n",
    "            ticker VARCHAR(10),\n",
    "            datetime TIMESTAMP NOT NULL,\n",
    "            open FLOAT NOT NULL,\n",
    "            high FLOAT NOT NULL,\n",
    "            low FLOAT NOT NULL,\n",
    "            close FLOAT NOT NULL,\n",
    "            volume FLOAT DEFAULT 0.0 NOT NULL,\n",
    "            year INT NOT NULL,\n",
    "            month INT NOT NULL,\n",
    "            day INT NOT NULL,\n",
    "            updated_at TIMESTAMP DEFAULT CURRENT_TIMESTAMP NOT NULL,\n",
    "        PRIMARY KEY(ticker, datetime));\n",
    "\"\"\"\n",
    "\n",
    "# # Create NASDAQ Stock History Hourly table\n",
    "# sql = \"\"\"\n",
    "#         CREATE TABLE IF NOT EXISTS nasdaq_hourly(\n",
    "#             ticker VARCHAR(10),\n",
    "#             datetime TIMESTAMP NOT NULL,\n",
    "#             open FLOAT NOT NULL,\n",
    "#             high FLOAT NOT NULL,\n",
    "#             low FLOAT NOT NULL,\n",
    "#             close FLOAT NOT NULL,\n",
    "#             volume FLOAT DEFAULT 0.0 NOT NULL,\n",
    "#             year INT NOT NULL,\n",
    "#             month INT NOT NULL,\n",
    "#             day INT NOT NULL,\n",
    "#             updated_at TIMESTAMP DEFAULT CURRENT_TIMESTAMP NOT NULL,\n",
    "#         PRIMARY KEY(ticker, datetime));\n",
    "#     \"\"\"\n",
    "\n",
    "# # Create `Stock Actions (Dividends & Splits)` table\n",
    "# sql = \"\"\"\n",
    "#         CREATE TABLE IF NOT EXISTS stock_actions(\n",
    "#             ticker VARCHAR(10),\n",
    "#             date DATE NOT NULL,\n",
    "#             dividends FLOAT NOT NULL,\n",
    "#             splits FLOAT NOT NULL,\n",
    "#         PRIMARY KEY(ticker, date));\n",
    "#     \"\"\"\n",
    "\n",
    "# # Create `Major Holders` table\n",
    "# sql = \"\"\"\n",
    "#         CREATE TABLE IF NOT EXISTS stock_holders(\n",
    "#             ticker VARCHAR(10),\n",
    "#             date_updated DATE NOT NULL,\n",
    "#             insider_share_pct FLOAT NOT NULL,\n",
    "#             institution_share_pct FLOAT NOT NULL,\n",
    "#             institution_float_pct FLOAT NOT NULL,\n",
    "#             institution_number INT NOT NULL,\n",
    "#         PRIMARY KEY(ticker, date_updated));\n",
    "#         \"\"\"\n",
    "\n",
    "# # Create `Institutional Holders` table\n",
    "# sql = \"\"\"\n",
    "#         CREATE TABLE IF NOT EXISTS institutional_holders(\n",
    "#             ticker VARCHAR(10),\n",
    "#             holder VARCHAR(75) NOT NULL,\n",
    "#             shares BIGINT NOT NULL,\n",
    "#             date_reported DATE NOT NULL,\n",
    "#             out_pct FLOAT NOT NULL,\n",
    "#             value BIGINT NOT NULL,\n",
    "#         PRIMARY KEY(ticker, date_reported));\n",
    "#     \"\"\"\n",
    "\n",
    "# # Create `Stock Recommendations` table\n",
    "# sql = \"\"\"\n",
    "#         CREATE TABLE IF NOT EXISTS stock_recommendations(\n",
    "#             ticker VARCHAR(10),\n",
    "#             holder VARCHAR(75) NOT NULL,\n",
    "#             shares BIGINT NOT NULL,\n",
    "#             date_reported DATE NOT NULL,\n",
    "#             out_pct FLOAT NOT NULL,\n",
    "#             value BIGINT NOT NULL,\n",
    "#         PRIMARY KEY(ticker, date_reported));\n",
    "#     \"\"\""
   ]
  },
  {
   "cell_type": "code",
   "execution_count": null,
   "metadata": {},
   "outputs": [],
   "source": [
    "# Check the defined sql query\n",
    "print(sql)"
   ]
  },
  {
   "cell_type": "code",
   "execution_count": null,
   "metadata": {},
   "outputs": [],
   "source": [
    "# CREATE TABLES IF NOT EXIST\n",
    "with connection.cursor() as cursor:\n",
    "    \n",
    "    cursor.execute(sql)\n",
    "\n",
    "# connection is not autocommit by default. So you must commit to save your changes.\n",
    "connection.commit()\n"
   ]
  },
  {
   "cell_type": "code",
   "execution_count": null,
   "metadata": {},
   "outputs": [],
   "source": []
  }
 ],
 "metadata": {
  "kernelspec": {
   "display_name": "Python 3",
   "language": "python",
   "name": "python3"
  },
  "language_info": {
   "codemirror_mode": {
    "name": "ipython",
    "version": 3
   },
   "file_extension": ".py",
   "mimetype": "text/x-python",
   "name": "python",
   "nbconvert_exporter": "python",
   "pygments_lexer": "ipython3",
   "version": "3.7.6"
  }
 },
 "nbformat": 4,
 "nbformat_minor": 4
}
