{
 "cells": [
  {
   "cell_type": "code",
   "execution_count": 5,
   "metadata": {},
   "outputs": [
    {
     "name": "stdout",
     "output_type": "stream",
     "text": [
      "/home/jupyter/quant\n"
     ]
    }
   ],
   "source": [
    "# Due to the file system setting of the Jupyter Notebook, navigate to the package to use infra\n",
    "%cd /home/jupyter/quant"
   ]
  },
  {
   "cell_type": "code",
   "execution_count": 1,
   "metadata": {},
   "outputs": [],
   "source": [
    "from datetime import datetime"
   ]
  },
  {
   "cell_type": "markdown",
   "metadata": {},
   "source": [
    "### Extract and insert stock price datato cloud storage and SQL"
   ]
  },
  {
   "cell_type": "markdown",
   "metadata": {},
   "source": [
    "#### Batch Load Max history data"
   ]
  },
  {
   "cell_type": "code",
   "execution_count": 9,
   "metadata": {},
   "outputs": [],
   "source": [
    "ticker = 'AAPL'\n",
    "password = ''\n",
    "table_name = 'quant_daily'\n",
    "period = 'max'"
   ]
  },
  {
   "cell_type": "code",
   "execution_count": 10,
   "metadata": {},
   "outputs": [
    {
     "name": "stdout",
     "output_type": "stream",
     "text": [
      "2020-03-15 22:00:42.626671\n",
      "======================================================================================================================================================\n",
      "AAPL in year 1980 has been write to gs://zhongyuan-dw/equity/company/aapl/1980/history.csv\n",
      "AAPL in year 1981 has been write to gs://zhongyuan-dw/equity/company/aapl/1981/history.csv\n",
      "AAPL in year 1982 has been write to gs://zhongyuan-dw/equity/company/aapl/1982/history.csv\n",
      "AAPL in year 1983 has been write to gs://zhongyuan-dw/equity/company/aapl/1983/history.csv\n",
      "AAPL in year 1984 has been write to gs://zhongyuan-dw/equity/company/aapl/1984/history.csv\n",
      "AAPL in year 1985 has been write to gs://zhongyuan-dw/equity/company/aapl/1985/history.csv\n",
      "AAPL in year 1986 has been write to gs://zhongyuan-dw/equity/company/aapl/1986/history.csv\n",
      "AAPL in year 1987 has been write to gs://zhongyuan-dw/equity/company/aapl/1987/history.csv\n",
      "AAPL in year 1988 has been write to gs://zhongyuan-dw/equity/company/aapl/1988/history.csv\n",
      "AAPL in year 1989 has been write to gs://zhongyuan-dw/equity/company/aapl/1989/history.csv\n",
      "AAPL in year 1990 has been write to gs://zhongyuan-dw/equity/company/aapl/1990/history.csv\n",
      "AAPL in year 1991 has been write to gs://zhongyuan-dw/equity/company/aapl/1991/history.csv\n",
      "AAPL in year 1992 has been write to gs://zhongyuan-dw/equity/company/aapl/1992/history.csv\n",
      "AAPL in year 1993 has been write to gs://zhongyuan-dw/equity/company/aapl/1993/history.csv\n",
      "AAPL in year 1994 has been write to gs://zhongyuan-dw/equity/company/aapl/1994/history.csv\n",
      "AAPL in year 1995 has been write to gs://zhongyuan-dw/equity/company/aapl/1995/history.csv\n",
      "AAPL in year 1996 has been write to gs://zhongyuan-dw/equity/company/aapl/1996/history.csv\n",
      "AAPL in year 1997 has been write to gs://zhongyuan-dw/equity/company/aapl/1997/history.csv\n",
      "AAPL in year 1998 has been write to gs://zhongyuan-dw/equity/company/aapl/1998/history.csv\n",
      "AAPL in year 1999 has been write to gs://zhongyuan-dw/equity/company/aapl/1999/history.csv\n",
      "AAPL in year 2000 has been write to gs://zhongyuan-dw/equity/company/aapl/2000/history.csv\n",
      "AAPL in year 2001 has been write to gs://zhongyuan-dw/equity/company/aapl/2001/history.csv\n",
      "AAPL in year 2002 has been write to gs://zhongyuan-dw/equity/company/aapl/2002/history.csv\n",
      "AAPL in year 2003 has been write to gs://zhongyuan-dw/equity/company/aapl/2003/history.csv\n",
      "AAPL in year 2004 has been write to gs://zhongyuan-dw/equity/company/aapl/2004/history.csv\n",
      "AAPL in year 2005 has been write to gs://zhongyuan-dw/equity/company/aapl/2005/history.csv\n",
      "AAPL in year 2006 has been write to gs://zhongyuan-dw/equity/company/aapl/2006/history.csv\n",
      "AAPL in year 2007 has been write to gs://zhongyuan-dw/equity/company/aapl/2007/history.csv\n",
      "AAPL in year 2008 has been write to gs://zhongyuan-dw/equity/company/aapl/2008/history.csv\n",
      "AAPL in year 2009 has been write to gs://zhongyuan-dw/equity/company/aapl/2009/history.csv\n",
      "AAPL in year 2010 has been write to gs://zhongyuan-dw/equity/company/aapl/2010/history.csv\n",
      "AAPL in year 2011 has been write to gs://zhongyuan-dw/equity/company/aapl/2011/history.csv\n",
      "AAPL in year 2012 has been write to gs://zhongyuan-dw/equity/company/aapl/2012/history.csv\n",
      "AAPL in year 2013 has been write to gs://zhongyuan-dw/equity/company/aapl/2013/history.csv\n",
      "AAPL in year 2014 has been write to gs://zhongyuan-dw/equity/company/aapl/2014/history.csv\n",
      "AAPL in year 2015 has been write to gs://zhongyuan-dw/equity/company/aapl/2015/history.csv\n",
      "AAPL in year 2016 has been write to gs://zhongyuan-dw/equity/company/aapl/2016/history.csv\n",
      "AAPL in year 2017 has been write to gs://zhongyuan-dw/equity/company/aapl/2017/history.csv\n",
      "AAPL in year 2018 has been write to gs://zhongyuan-dw/equity/company/aapl/2018/history.csv\n",
      "AAPL in year 2019 has been write to gs://zhongyuan-dw/equity/company/aapl/2019/history.csv\n",
      "AAPL in year 2020 has been write to gs://zhongyuan-dw/equity/company/aapl/2020/history.csv\n",
      "2020-03-15.pkl has been write to bucket\n",
      "======================================================================================================================================================\n"
     ]
    }
   ],
   "source": [
    "# Recent executed on\n",
    "print(datetime.now())\n",
    "print(\"======================================================================================================================================================\")\n",
    "\n",
    "%run -i 'notebooks/etl/yfinance/load_add_info.py'\n",
    "print(\"======================================================================================================================================================\")\n",
    "    "
   ]
  },
  {
   "cell_type": "code",
   "execution_count": null,
   "metadata": {},
   "outputs": [],
   "source": []
  }
 ],
 "metadata": {
  "kernelspec": {
   "display_name": "Python 3",
   "language": "python",
   "name": "python3"
  },
  "language_info": {
   "codemirror_mode": {
    "name": "ipython",
    "version": 3
   },
   "file_extension": ".py",
   "mimetype": "text/x-python",
   "name": "python",
   "nbconvert_exporter": "python",
   "pygments_lexer": "ipython3",
   "version": "3.7.6"
  }
 },
 "nbformat": 4,
 "nbformat_minor": 4
}
