{
 "cells": [
  {
   "cell_type": "code",
   "execution_count": 43,
   "metadata": {
    "scrolled": true
   },
   "outputs": [
    {
     "name": "stdout",
     "output_type": "stream",
     "text": [
      "/home/jupyter/quant\n"
     ]
    }
   ],
   "source": [
    "# Due to the file system setting of the Jupyter Notebook, navigate to the package to use infra\n",
    "%cd /home/jupyter/quant"
   ]
  },
  {
   "cell_type": "markdown",
   "metadata": {},
   "source": [
    "#### Create yfinance SQL tables for the first time"
   ]
  },
  {
   "cell_type": "code",
   "execution_count": 44,
   "metadata": {},
   "outputs": [
    {
     "name": "stderr",
     "output_type": "stream",
     "text": [
      "/opt/conda/lib/python3.7/site-packages/pymysql/cursors.py:170: Warning: (1050, \"Table 'nasdaq_daily' already exists\")\n",
      "  result = self._query(query)\n"
     ]
    }
   ],
   "source": [
    "%run -i 'notebooks/etl/yfinance/create_sql_tables.py'"
   ]
  },
  {
   "cell_type": "code",
   "execution_count": 45,
   "metadata": {},
   "outputs": [],
   "source": [
    "from datetime import datetime"
   ]
  },
  {
   "cell_type": "markdown",
   "metadata": {},
   "source": [
    "### Extract and insert stock price datato cloud storage and SQL"
   ]
  },
  {
   "cell_type": "markdown",
   "metadata": {},
   "source": [
    "#### Batch Load Max history data"
   ]
  },
  {
   "cell_type": "code",
   "execution_count": 46,
   "metadata": {},
   "outputs": [],
   "source": [
    "ticker = 'AAPL'\n",
    "password = 'jinyongwuxia'\n",
    "table_name = 'nasdaq_daily'\n",
    "period = 'max'"
   ]
  },
  {
   "cell_type": "code",
   "execution_count": 49,
   "metadata": {},
   "outputs": [
    {
     "name": "stdout",
     "output_type": "stream",
     "text": [
      "2020-03-30 05:25:14.117392\n",
      "======================================================================================================================================================\n",
      "[*********************100%***********************]  1 of 1 completed\n",
      "AAPL in year 1980 has been write to gs://zhongyuan-dw/equity/company/aapl/1980/daily.csv\n",
      "AAPL in year 1981 has been write to gs://zhongyuan-dw/equity/company/aapl/1981/daily.csv\n",
      "AAPL in year 1982 has been write to gs://zhongyuan-dw/equity/company/aapl/1982/daily.csv\n",
      "AAPL in year 1983 has been write to gs://zhongyuan-dw/equity/company/aapl/1983/daily.csv\n",
      "AAPL in year 1984 has been write to gs://zhongyuan-dw/equity/company/aapl/1984/daily.csv\n",
      "AAPL in year 1985 has been write to gs://zhongyuan-dw/equity/company/aapl/1985/daily.csv\n",
      "AAPL in year 1986 has been write to gs://zhongyuan-dw/equity/company/aapl/1986/daily.csv\n",
      "AAPL in year 1987 has been write to gs://zhongyuan-dw/equity/company/aapl/1987/daily.csv\n",
      "AAPL in year 1988 has been write to gs://zhongyuan-dw/equity/company/aapl/1988/daily.csv\n",
      "AAPL in year 1989 has been write to gs://zhongyuan-dw/equity/company/aapl/1989/daily.csv\n",
      "AAPL in year 1990 has been write to gs://zhongyuan-dw/equity/company/aapl/1990/daily.csv\n",
      "AAPL in year 1991 has been write to gs://zhongyuan-dw/equity/company/aapl/1991/daily.csv\n",
      "AAPL in year 1992 has been write to gs://zhongyuan-dw/equity/company/aapl/1992/daily.csv\n",
      "AAPL in year 1993 has been write to gs://zhongyuan-dw/equity/company/aapl/1993/daily.csv\n",
      "AAPL in year 1994 has been write to gs://zhongyuan-dw/equity/company/aapl/1994/daily.csv\n",
      "AAPL in year 1995 has been write to gs://zhongyuan-dw/equity/company/aapl/1995/daily.csv\n",
      "AAPL in year 1996 has been write to gs://zhongyuan-dw/equity/company/aapl/1996/daily.csv\n",
      "AAPL in year 1997 has been write to gs://zhongyuan-dw/equity/company/aapl/1997/daily.csv\n",
      "AAPL in year 1998 has been write to gs://zhongyuan-dw/equity/company/aapl/1998/daily.csv\n",
      "AAPL in year 1999 has been write to gs://zhongyuan-dw/equity/company/aapl/1999/daily.csv\n",
      "AAPL in year 2000 has been write to gs://zhongyuan-dw/equity/company/aapl/2000/daily.csv\n",
      "AAPL in year 2001 has been write to gs://zhongyuan-dw/equity/company/aapl/2001/daily.csv\n",
      "AAPL in year 2002 has been write to gs://zhongyuan-dw/equity/company/aapl/2002/daily.csv\n",
      "AAPL in year 2003 has been write to gs://zhongyuan-dw/equity/company/aapl/2003/daily.csv\n",
      "AAPL in year 2004 has been write to gs://zhongyuan-dw/equity/company/aapl/2004/daily.csv\n",
      "AAPL in year 2005 has been write to gs://zhongyuan-dw/equity/company/aapl/2005/daily.csv\n",
      "AAPL in year 2006 has been write to gs://zhongyuan-dw/equity/company/aapl/2006/daily.csv\n",
      "AAPL in year 2007 has been write to gs://zhongyuan-dw/equity/company/aapl/2007/daily.csv\n",
      "AAPL in year 2008 has been write to gs://zhongyuan-dw/equity/company/aapl/2008/daily.csv\n",
      "AAPL in year 2009 has been write to gs://zhongyuan-dw/equity/company/aapl/2009/daily.csv\n",
      "AAPL in year 2010 has been write to gs://zhongyuan-dw/equity/company/aapl/2010/daily.csv\n",
      "AAPL in year 2011 has been write to gs://zhongyuan-dw/equity/company/aapl/2011/daily.csv\n",
      "AAPL in year 2012 has been write to gs://zhongyuan-dw/equity/company/aapl/2012/daily.csv\n",
      "AAPL in year 2013 has been write to gs://zhongyuan-dw/equity/company/aapl/2013/daily.csv\n",
      "AAPL in year 2014 has been write to gs://zhongyuan-dw/equity/company/aapl/2014/daily.csv\n",
      "AAPL in year 2015 has been write to gs://zhongyuan-dw/equity/company/aapl/2015/daily.csv\n",
      "AAPL in year 2016 has been write to gs://zhongyuan-dw/equity/company/aapl/2016/daily.csv\n",
      "AAPL in year 2017 has been write to gs://zhongyuan-dw/equity/company/aapl/2017/daily.csv\n",
      "AAPL in year 2018 has been write to gs://zhongyuan-dw/equity/company/aapl/2018/daily.csv\n",
      "AAPL in year 2019 has been write to gs://zhongyuan-dw/equity/company/aapl/2019/daily.csv\n",
      "AAPL in year 2020 has been write to gs://zhongyuan-dw/equity/company/aapl/2020/daily.csv\n",
      "======================================================================================================================================================\n"
     ]
    }
   ],
   "source": [
    "# Recent executed on\n",
    "print(datetime.now())\n",
    "print(\"======================================================================================================================================================\")\n",
    "\n",
    "%run -i 'notebooks/etl/yfinance/load_stock_price_daily.py'\n",
    "print(\"======================================================================================================================================================\")\n",
    "    "
   ]
  },
  {
   "cell_type": "code",
   "execution_count": 51,
   "metadata": {},
   "outputs": [],
   "source": [
    "ts_pd.reset_index(inplace=True)"
   ]
  },
  {
   "cell_type": "code",
   "execution_count": 58,
   "metadata": {},
   "outputs": [
    {
     "name": "stdout",
     "output_type": "stream",
     "text": [
      "datetime      1980-12-12 00:00:00\n",
      "open                     0.406782\n",
      "high                      0.40855\n",
      "low                      0.406782\n",
      "close                    0.406782\n",
      "volume                  117258400\n",
      "year                         1980\n",
      "month                          12\n",
      "day                            12\n",
      "ticker                       AAPL\n",
      "updated_at    2020-03-30 05:25:14\n",
      "Name: 0, dtype: object\n",
      "\n",
      "        INSERT INTO nasdaq_daily(ticker, datetime, open, high, low, close, volume, year, month, day, updated_at) \n",
      "        VALUES('AAPL', '1980-12-12 00:00:00', 0.40678155422210693, 0.4085501628991805, 0.40678155422210693, 0.40678155422210693, 117258400, 1980, 12, 12, '2020-03-30 05:25:14');\n",
      "        \n",
      "datetime      1980-12-15 00:00:00\n",
      "open                     0.387327\n",
      "high                     0.387327\n",
      "low                      0.385558\n",
      "close                    0.385558\n",
      "volume                   43971200\n",
      "year                         1980\n",
      "month                          12\n",
      "day                            15\n",
      "ticker                       AAPL\n",
      "updated_at    2020-03-30 05:25:14\n",
      "Name: 1, dtype: object\n",
      "\n",
      "        INSERT INTO nasdaq_daily(ticker, datetime, open, high, low, close, volume, year, month, day, updated_at) \n",
      "        VALUES('AAPL', '1980-12-15 00:00:00', 0.3873267904614357, 0.3873267904614357, 0.3855581581592559, 0.385558158159256, 43971200, 1980, 12, 15, '2020-03-30 05:25:14');\n",
      "        \n",
      "datetime      1980-12-16 00:00:00\n",
      "open                     0.359029\n",
      "high                     0.359029\n",
      "low                       0.35726\n",
      "close                     0.35726\n",
      "volume                   26432000\n",
      "year                         1980\n",
      "month                          12\n",
      "day                            16\n",
      "ticker                       AAPL\n",
      "updated_at    2020-03-30 05:25:14\n",
      "Name: 2, dtype: object\n",
      "\n",
      "        INSERT INTO nasdaq_daily(ticker, datetime, open, high, low, close, volume, year, month, day, updated_at) \n",
      "        VALUES('AAPL', '1980-12-16 00:00:00', 0.3590288953091103, 0.3590288953091103, 0.3572602868080139, 0.3572602868080139, 26432000, 1980, 12, 16, '2020-03-30 05:25:14');\n",
      "        \n",
      "datetime      1980-12-17 00:00:00\n",
      "open                     0.366103\n",
      "high                     0.367872\n",
      "low                      0.366103\n",
      "close                    0.366103\n",
      "volume                   21610400\n",
      "year                         1980\n",
      "month                          12\n",
      "day                            17\n",
      "ticker                       AAPL\n",
      "updated_at    2020-03-30 05:25:14\n",
      "Name: 3, dtype: object\n",
      "\n",
      "        INSERT INTO nasdaq_daily(ticker, datetime, open, high, low, close, volume, year, month, day, updated_at) \n",
      "        VALUES('AAPL', '1980-12-17 00:00:00', 0.3661033511161804, 0.36787195960852864, 0.3661033511161804, 0.3661033511161804, 21610400, 1980, 12, 17, '2020-03-30 05:25:14');\n",
      "        \n",
      "datetime      1980-12-18 00:00:00\n",
      "open                     0.376715\n",
      "high                     0.378484\n",
      "low                      0.376715\n",
      "close                    0.376715\n",
      "volume                   18362400\n",
      "year                         1980\n",
      "month                          12\n",
      "day                            18\n",
      "ticker                       AAPL\n",
      "updated_at    2020-03-30 05:25:14\n",
      "Name: 4, dtype: object\n",
      "\n",
      "        INSERT INTO nasdaq_daily(ticker, datetime, open, high, low, close, volume, year, month, day, updated_at) \n",
      "        VALUES('AAPL', '1980-12-18 00:00:00', 0.3767151534557343, 0.3784837624370869, 0.3767151534557343, 0.37671515345573425, 18362400, 1980, 12, 18, '2020-03-30 05:25:14');\n",
      "        \n"
     ]
    }
   ],
   "source": [
    "# Insert data into SQL table\n",
    "# Set up cloud sql connections\n",
    "connection = pymysql.connect(host=PRIVATE_HOST,\n",
    "                             user=USER,\n",
    "                             password=password,\n",
    "                             db=DATABASE)\n",
    "\n",
    "with connection.cursor() as cursor:\n",
    "    for index, row in ts_pd.head(5).iterrows():\n",
    "        sql = \"\"\"\n",
    "        INSERT INTO {table_name}({ticker}, {datetime}, {open}, {high}, {low}, {close}, {volume}, {year}, {month}, {day}, {updated_at}) \n",
    "        VALUES('{ticker_v}', '{datetime_v}', {open_v}, {high_v}, {low_v}, {close_v}, {volume_v}, {year_v}, {month_v}, {day_v}, '{updated_at_v}');\n",
    "        \"\"\".format(table_name=table_name,\n",
    "                   ticker=TICKER,\n",
    "                   datetime=DATETIME,\n",
    "                   open=OPEN, high=HIGH, low=LOW, close=CLOSE, volume=VOLUME,\n",
    "                   year=YEAR, month=MONTH, day=DAY, updated_at=UPDATED_AT,\n",
    "                   ticker_v=row[TICKER],\n",
    "                   datetime_v=row[DATETIME],\n",
    "                   open_v=row[OPEN], high_v=row[HIGH], low_v=row[LOW], close_v=row[CLOSE], volume_v=row[VOLUME],\n",
    "                   year_v=row[YEAR], month_v=row[MONTH], day_v=row[DAY], updated_at_v=row[UPDATED_AT])\n",
    "\n",
    "        print(sql)\n",
    "        cursor.execute(sql)\n",
    "\n",
    "        # connection is not autocommit by default. So you must commit to save your changes.\n",
    "        connection.commit()\n",
    "\n",
    "cursor.close()"
   ]
  },
  {
   "cell_type": "code",
   "execution_count": null,
   "metadata": {},
   "outputs": [],
   "source": []
  }
 ],
 "metadata": {
  "kernelspec": {
   "display_name": "Python 3",
   "language": "python",
   "name": "python3"
  },
  "language_info": {
   "codemirror_mode": {
    "name": "ipython",
    "version": 3
   },
   "file_extension": ".py",
   "mimetype": "text/x-python",
   "name": "python",
   "nbconvert_exporter": "python",
   "pygments_lexer": "ipython3",
   "version": "3.7.6"
  }
 },
 "nbformat": 4,
 "nbformat_minor": 4
}
