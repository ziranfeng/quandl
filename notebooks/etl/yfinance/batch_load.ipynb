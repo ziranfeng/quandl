{
 "cells": [
  {
   "cell_type": "code",
   "execution_count": 1,
   "metadata": {
    "scrolled": false
   },
   "outputs": [
    {
     "name": "stdout",
     "output_type": "stream",
     "text": [
      "[Errno 2] No such file or directory: '/home/jupyter/quant'\n",
      "/Users/ziranfeng/jiuyin/quandl/notebooks/etl/yfinance\n"
     ]
    }
   ],
   "source": [
    "# Due to the file system setting of the Jupyter Notebook, navigate to the package to use infra\n",
    "%cd /home/jupyter/quant"
   ]
  },
  {
   "cell_type": "code",
   "execution_count": 2,
   "metadata": {},
   "outputs": [
    {
     "ename": "ModuleNotFoundError",
     "evalue": "No module named 'pymysql'",
     "output_type": "error",
     "traceback": [
      "\u001b[0;31m---------------------------------------------------------------------------\u001b[0m",
      "\u001b[0;31mModuleNotFoundError\u001b[0m                       Traceback (most recent call last)",
      "\u001b[0;32m<ipython-input-2-456d38c9899e>\u001b[0m in \u001b[0;36m<module>\u001b[0;34m\u001b[0m\n\u001b[0;32m----> 1\u001b[0;31m \u001b[0;32mimport\u001b[0m \u001b[0mpymysql\u001b[0m\u001b[0;34m\u001b[0m\u001b[0;34m\u001b[0m\u001b[0m\n\u001b[0m\u001b[1;32m      2\u001b[0m \u001b[0;34m\u001b[0m\u001b[0m\n\u001b[1;32m      3\u001b[0m \u001b[0;32mfrom\u001b[0m \u001b[0myitian\u001b[0m\u001b[0;34m.\u001b[0m\u001b[0mdatasource\u001b[0m \u001b[0;32mimport\u001b[0m \u001b[0mPRIVATE_HOST\u001b[0m\u001b[0;34m,\u001b[0m \u001b[0mUSER\u001b[0m\u001b[0;34m,\u001b[0m \u001b[0mDATABASE\u001b[0m\u001b[0;34m\u001b[0m\u001b[0;34m\u001b[0m\u001b[0m\n",
      "\u001b[0;31mModuleNotFoundError\u001b[0m: No module named 'pymysql'"
     ]
    }
   ],
   "source": [
    "from datetime import datetime\n",
    "import pandas as pd\n",
    "import pymysql\n",
    "\n",
    "from yitian.datasource import PRIVATE_HOST, USER, DATABASE"
   ]
  },
  {
   "cell_type": "code",
   "execution_count": null,
   "metadata": {},
   "outputs": [],
   "source": [
    "# Set up cloud sql connections\n",
    "password = 'jinyongwuxia'\n",
    "connection = pymysql.connect(host=PRIVATE_HOST,\n",
    "                             user=USER,\n",
    "                             password=password,\n",
    "                             db=DATABASE)"
   ]
  },
  {
   "cell_type": "markdown",
   "metadata": {},
   "source": [
    "#### Create yfinance SQL tables for the first time"
   ]
  },
  {
   "cell_type": "code",
   "execution_count": 44,
   "metadata": {},
   "outputs": [
    {
     "name": "stderr",
     "output_type": "stream",
     "text": [
      "/opt/conda/lib/python3.7/site-packages/pymysql/cursors.py:170: Warning: (1050, \"Table 'nasdaq_daily' already exists\")\n",
      "  result = self._query(query)\n"
     ]
    }
   ],
   "source": [
    "%run -i 'notebooks/etl/yfinance/create_tables.py'"
   ]
  },
  {
   "cell_type": "markdown",
   "metadata": {},
   "source": [
    "### Extract and insert stock price datato cloud storage and SQL"
   ]
  },
  {
   "cell_type": "markdown",
   "metadata": {},
   "source": [
    "#### Batch Load Max history data"
   ]
  },
  {
   "cell_type": "code",
   "execution_count": null,
   "metadata": {},
   "outputs": [],
   "source": [
    "nasdaq_pd = pd.read_sql(\"SELECT * FROM quant.nasdaq\", connection)\n",
    "nasdaq_ticker = nasdaq_pd.symbol"
   ]
  },
  {
   "cell_type": "code",
   "execution_count": 49,
   "metadata": {},
   "outputs": [
    {
     "name": "stdout",
     "output_type": "stream",
     "text": [
      "2020-03-30 05:25:14.117392\n",
      "======================================================================================================================================================\n",
      "[*********************100%***********************]  1 of 1 completed\n",
      "AAPL in year 1980 has been write to gs://zhongyuan-dw/equity/company/aapl/1980/daily.csv\n",
      "AAPL in year 1981 has been write to gs://zhongyuan-dw/equity/company/aapl/1981/daily.csv\n",
      "AAPL in year 1982 has been write to gs://zhongyuan-dw/equity/company/aapl/1982/daily.csv\n",
      "AAPL in year 1983 has been write to gs://zhongyuan-dw/equity/company/aapl/1983/daily.csv\n",
      "AAPL in year 1984 has been write to gs://zhongyuan-dw/equity/company/aapl/1984/daily.csv\n",
      "AAPL in year 1985 has been write to gs://zhongyuan-dw/equity/company/aapl/1985/daily.csv\n",
      "AAPL in year 1986 has been write to gs://zhongyuan-dw/equity/company/aapl/1986/daily.csv\n",
      "AAPL in year 1987 has been write to gs://zhongyuan-dw/equity/company/aapl/1987/daily.csv\n",
      "AAPL in year 1988 has been write to gs://zhongyuan-dw/equity/company/aapl/1988/daily.csv\n",
      "AAPL in year 1989 has been write to gs://zhongyuan-dw/equity/company/aapl/1989/daily.csv\n",
      "AAPL in year 1990 has been write to gs://zhongyuan-dw/equity/company/aapl/1990/daily.csv\n",
      "AAPL in year 1991 has been write to gs://zhongyuan-dw/equity/company/aapl/1991/daily.csv\n",
      "AAPL in year 1992 has been write to gs://zhongyuan-dw/equity/company/aapl/1992/daily.csv\n",
      "AAPL in year 1993 has been write to gs://zhongyuan-dw/equity/company/aapl/1993/daily.csv\n",
      "AAPL in year 1994 has been write to gs://zhongyuan-dw/equity/company/aapl/1994/daily.csv\n",
      "AAPL in year 1995 has been write to gs://zhongyuan-dw/equity/company/aapl/1995/daily.csv\n",
      "AAPL in year 1996 has been write to gs://zhongyuan-dw/equity/company/aapl/1996/daily.csv\n",
      "AAPL in year 1997 has been write to gs://zhongyuan-dw/equity/company/aapl/1997/daily.csv\n",
      "AAPL in year 1998 has been write to gs://zhongyuan-dw/equity/company/aapl/1998/daily.csv\n",
      "AAPL in year 1999 has been write to gs://zhongyuan-dw/equity/company/aapl/1999/daily.csv\n",
      "AAPL in year 2000 has been write to gs://zhongyuan-dw/equity/company/aapl/2000/daily.csv\n",
      "AAPL in year 2001 has been write to gs://zhongyuan-dw/equity/company/aapl/2001/daily.csv\n",
      "AAPL in year 2002 has been write to gs://zhongyuan-dw/equity/company/aapl/2002/daily.csv\n",
      "AAPL in year 2003 has been write to gs://zhongyuan-dw/equity/company/aapl/2003/daily.csv\n",
      "AAPL in year 2004 has been write to gs://zhongyuan-dw/equity/company/aapl/2004/daily.csv\n",
      "AAPL in year 2005 has been write to gs://zhongyuan-dw/equity/company/aapl/2005/daily.csv\n",
      "AAPL in year 2006 has been write to gs://zhongyuan-dw/equity/company/aapl/2006/daily.csv\n",
      "AAPL in year 2007 has been write to gs://zhongyuan-dw/equity/company/aapl/2007/daily.csv\n",
      "AAPL in year 2008 has been write to gs://zhongyuan-dw/equity/company/aapl/2008/daily.csv\n",
      "AAPL in year 2009 has been write to gs://zhongyuan-dw/equity/company/aapl/2009/daily.csv\n",
      "AAPL in year 2010 has been write to gs://zhongyuan-dw/equity/company/aapl/2010/daily.csv\n",
      "AAPL in year 2011 has been write to gs://zhongyuan-dw/equity/company/aapl/2011/daily.csv\n",
      "AAPL in year 2012 has been write to gs://zhongyuan-dw/equity/company/aapl/2012/daily.csv\n",
      "AAPL in year 2013 has been write to gs://zhongyuan-dw/equity/company/aapl/2013/daily.csv\n",
      "AAPL in year 2014 has been write to gs://zhongyuan-dw/equity/company/aapl/2014/daily.csv\n",
      "AAPL in year 2015 has been write to gs://zhongyuan-dw/equity/company/aapl/2015/daily.csv\n",
      "AAPL in year 2016 has been write to gs://zhongyuan-dw/equity/company/aapl/2016/daily.csv\n",
      "AAPL in year 2017 has been write to gs://zhongyuan-dw/equity/company/aapl/2017/daily.csv\n",
      "AAPL in year 2018 has been write to gs://zhongyuan-dw/equity/company/aapl/2018/daily.csv\n",
      "AAPL in year 2019 has been write to gs://zhongyuan-dw/equity/company/aapl/2019/daily.csv\n",
      "AAPL in year 2020 has been write to gs://zhongyuan-dw/equity/company/aapl/2020/daily.csv\n",
      "======================================================================================================================================================\n"
     ]
    }
   ],
   "source": [
    "# Load data to Cloud storage and SQL\n",
    "table_name = 'nasdaq_daily'\n",
    "period = 'max'\n",
    "\n",
    "for t in nasdaq_ticker:\n",
    "    ticker = t\n",
    "    print(datetime.now())\n",
    "    \n",
    "    %run -i 'notebooks/etl/yfinance/batch_extract_stock_price.py'\n",
    "    print(\"======================================================================================================================================================\")"
   ]
  },
  {
   "cell_type": "code",
   "execution_count": null,
   "metadata": {},
   "outputs": [],
   "source": [
    "# Load data to Cloud storage and SQL\n",
    "\n",
    "table_name = 'nasdaq_hourly'\n",
    "period = '2y'\n",
    "\n",
    "for t in nasdaq_ticker:\n",
    "    ticker = t\n",
    "    print(datetime.now())\n",
    "    \n",
    "    %run -i 'notebooks/etl/yfinance/update_stock_price.py'\n",
    "    print(\"======================================================================================================================================================\")"
   ]
  },
  {
   "cell_type": "code",
   "execution_count": null,
   "metadata": {},
   "outputs": [],
   "source": [
    "\n",
    "# Close connection\n",
    "connection.close()\n"
   ]
  }
 ],
 "metadata": {
  "kernelspec": {
   "display_name": "Python 3",
   "language": "python",
   "name": "python3"
  },
  "language_info": {
   "codemirror_mode": {
    "name": "ipython",
    "version": 3
   },
   "file_extension": ".py",
   "mimetype": "text/x-python",
   "name": "python",
   "nbconvert_exporter": "python",
   "pygments_lexer": "ipython3",
   "version": "3.7.6"
  }
 },
 "nbformat": 4,
 "nbformat_minor": 4
}
