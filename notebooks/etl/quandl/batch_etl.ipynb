{
 "cells": [
  {
   "cell_type": "code",
   "execution_count": 2,
   "metadata": {},
   "outputs": [
    {
     "name": "stdout",
     "output_type": "stream",
     "text": [
      "/home/jupyter/quant\n"
     ]
    }
   ],
   "source": [
    "# Due to the file system setting of the Jupyter Notebook, navigate to the package to use infra\n",
    "%cd /home/jupyter/quant"
   ]
  },
  {
   "cell_type": "markdown",
   "metadata": {},
   "source": [
    "## ETL Fed Interest Rates data into cloud storage and mySQL database"
   ]
  },
  {
   "cell_type": "code",
   "execution_count": null,
   "metadata": {},
   "outputs": [],
   "source": [
    "import pymysql\n",
    "\n",
    "from yitian.datasource import *\n",
    "from yitian.datasource.quandl.fed import FED_DATABASE_CODE, DATASET_CODE_TABLE_MAP\n",
    "\n",
    "# Set up cloud sql connections\n",
    "password = ''\n",
    "DATABASE = INTEREST_RATE_AND_FIXED_INCOME\n",
    "connection = pymysql.connect(host=PRIVATE_HOST,\n",
    "                             user=USER,\n",
    "                             password=password,\n",
    "                             db=DATABASE)\n"
   ]
  },
  {
   "cell_type": "code",
   "execution_count": null,
   "metadata": {},
   "outputs": [],
   "source": [
    "# Set required parameters and run general extraction script\n",
    "\n",
    "data_category = INTEREST_RATE_AND_FIXED_INCOME\n",
    "current_year = 2020\n",
    "mode = 'update'\n",
    "db_name = FED_DATABASE_CODE\n",
    "\n",
    "for name, table in DATASET_CODE_TABLE_MAP.items():\n",
    "    ds_name = name\n",
    "    output_table = table\n",
    "    \n",
    "    %run -i 'notebooks/etl/quandl/default_etl.py'\n",
    "    "
   ]
  },
  {
   "cell_type": "code",
   "execution_count": null,
   "metadata": {},
   "outputs": [],
   "source": [
    "connection.close()"
   ]
  },
  {
   "cell_type": "markdown",
   "metadata": {},
   "source": [
    "## ETL OPEC data into cloud storage and mySQL database"
   ]
  },
  {
   "cell_type": "code",
   "execution_count": null,
   "metadata": {},
   "outputs": [],
   "source": [
    "import pymysql\n",
    "\n",
    "from yitian.datasource import *\n",
    "from yitian.datasource.quandl.opec import OPEC_DATABASE_CODE, OPEC_DATASET_CODE\n",
    "\n",
    "# Set up cloud sql connections\n",
    "password = ''\n",
    "DATABASE = COMMODITY\n",
    "connection = pymysql.connect(host=PRIVATE_HOST,\n",
    "                             user=USER,\n",
    "                             password=password,\n",
    "                             db=DATABASE)\n"
   ]
  },
  {
   "cell_type": "code",
   "execution_count": null,
   "metadata": {},
   "outputs": [],
   "source": [
    "# Set required parameters and run general extraction script\n",
    "\n",
    "data_category = COMMODITY\n",
    "current_year = 2020\n",
    "mode = 'update'\n",
    "db_name = OPEC_DATABASE_CODE\n",
    "ds_name = OPEC_DATASET_CODE\n",
    "output_table = OPEC_REF_BASKET\n",
    "\n",
    "%run -i 'notebooks/etl/quandl/default_etl.py'\n",
    "    "
   ]
  },
  {
   "cell_type": "code",
   "execution_count": null,
   "metadata": {},
   "outputs": [],
   "source": [
    "connection.close()"
   ]
  },
  {
   "cell_type": "markdown",
   "metadata": {},
   "source": [
    "## ETL NASDAQ Indexes data into cloud storage and mySQL database"
   ]
  },
  {
   "cell_type": "code",
   "execution_count": null,
   "metadata": {},
   "outputs": [],
   "source": [
    "import pymysql\n",
    "\n",
    "from yitian.datasource import *\n",
    "from yitian.datasource.quandl.nasdaq import NASDAQ_DATABASE_CODE, DATASET_CODE_TABLE_MAP\n",
    "\n",
    "# Set up cloud sql connections\n",
    "password = ''\n",
    "DATABASE = EQUITY\n",
    "connection = pymysql.connect(host=PRIVATE_HOST,\n",
    "                             user=USER,\n",
    "                             password=password,\n",
    "                             db=DATABASE)\n"
   ]
  },
  {
   "cell_type": "code",
   "execution_count": null,
   "metadata": {},
   "outputs": [],
   "source": [
    "# Set required parameters and run general extraction script\n",
    "\n",
    "data_category = EQUITY\n",
    "current_year = 2020\n",
    "mode = 'update'\n",
    "db_name = NASDAQ_DATABASE_CODE\n",
    "\n",
    "for name, table in DATASET_CODE_TABLE_MAP.items():\n",
    "    ds_name = name\n",
    "    output_table = table\n",
    "    \n",
    "    %run -i 'notebooks/etl/quandl/default_etl.py'\n",
    "    "
   ]
  },
  {
   "cell_type": "code",
   "execution_count": null,
   "metadata": {},
   "outputs": [],
   "source": [
    "connection.close()"
   ]
  }
 ],
 "metadata": {
  "kernelspec": {
   "display_name": "Python 3",
   "language": "python",
   "name": "python3"
  },
  "language_info": {
   "codemirror_mode": {
    "name": "ipython",
    "version": 3
   },
   "file_extension": ".py",
   "mimetype": "text/x-python",
   "name": "python",
   "nbconvert_exporter": "python",
   "pygments_lexer": "ipython3",
   "version": "3.7.6"
  }
 },
 "nbformat": 4,
 "nbformat_minor": 4
}
