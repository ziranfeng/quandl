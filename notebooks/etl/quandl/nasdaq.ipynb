{
 "cells": [
  {
   "cell_type": "code",
   "execution_count": 2,
   "metadata": {},
   "outputs": [
    {
     "name": "stdout",
     "output_type": "stream",
     "text": [
      "/home/jupyter/quant\n"
     ]
    }
   ],
   "source": [
    "# Due to the file system setting of the Jupyter Notebook, navigate to the package to use infra\n",
    "%cd /home/jupyter/quant"
   ]
  },
  {
   "cell_type": "markdown",
   "metadata": {},
   "source": [
    "### The following data has been executed and saved. Please be aware of overwritting the existing data.\n",
    "\n",
    "#### Use notebook `update` to update data for the most recent year"
   ]
  },
  {
   "cell_type": "code",
   "execution_count": 3,
   "metadata": {},
   "outputs": [],
   "source": [
    "from datetime import datetime\n",
    "\n",
    "from yitian.datasource import EQUITY\n",
    "from yitian.datasource.quandl.nasdaq import NAME, NASDAQ_DATABASE_CODE, DATASET_CODE_MAP"
   ]
  },
  {
   "cell_type": "code",
   "execution_count": 5,
   "metadata": {},
   "outputs": [
    {
     "data": {
      "text/plain": [
       "{'XQC': 'settlement_value',\n",
       " 'XNDXT25': 'total_return_index',\n",
       " 'XNDXT25NNR': 'national_net_return_index'}"
      ]
     },
     "execution_count": 5,
     "metadata": {},
     "output_type": "execute_result"
    }
   ],
   "source": [
    "DATASET_CODE_MAP"
   ]
  },
  {
   "cell_type": "code",
   "execution_count": 4,
   "metadata": {},
   "outputs": [
    {
     "name": "stdout",
     "output_type": "stream",
     "text": [
      "2020-03-15 20:27:38.503715\n",
      "======================================================================================================================================================\n",
      "Extracting XQC : settlement_value\n",
      "Start date (2016-01-01) & End date (2016-12-31)\n",
      "('id', 41168791)\n",
      "('dataset_code', 'XQC')\n",
      "('database_code', 'NASDAQOMX')\n",
      "('name', 'NASDAQ-100 PM Settlement Value (XQC)')\n",
      "('description', 'For detailed information, see <a href=https://indexes.nasdaqomx.com/Index/Overview/XQC>https://indexes.nasdaqomx.com/Index/Overview/XQC</a>')\n",
      "('refreshed_at', '2020-03-14T05:08:00.380Z')\n",
      "('newest_available_date', '2020-03-13')\n",
      "('oldest_available_date', '2016-12-19')\n",
      "('column_names', ['Trade Date', 'Index Value', 'High', 'Low', 'Total Market Value', 'Dividend Market Value'])\n",
      "('frequency', 'daily')\n",
      "('type', 'Time Series')\n",
      "('premium', False)\n",
      "('database_id', 10471)\n",
      "NASDAQOMX / XQC in 2016 has been overwrite to gs://zhongyuan-dw/equity/nasdaqomx/xqc/2016/history.csv\n",
      "======================================================================================================================================================\n",
      "Start date (2017-01-01) & End date (2017-12-31)\n",
      "('id', 41168791)\n",
      "('dataset_code', 'XQC')\n",
      "('database_code', 'NASDAQOMX')\n",
      "('name', 'NASDAQ-100 PM Settlement Value (XQC)')\n",
      "('description', 'For detailed information, see <a href=https://indexes.nasdaqomx.com/Index/Overview/XQC>https://indexes.nasdaqomx.com/Index/Overview/XQC</a>')\n",
      "('refreshed_at', '2020-03-14T05:08:00.380Z')\n",
      "('newest_available_date', '2020-03-13')\n",
      "('oldest_available_date', '2016-12-19')\n",
      "('column_names', ['Trade Date', 'Index Value', 'High', 'Low', 'Total Market Value', 'Dividend Market Value'])\n",
      "('frequency', 'daily')\n",
      "('type', 'Time Series')\n",
      "('premium', False)\n",
      "('database_id', 10471)\n",
      "NASDAQOMX / XQC in 2017 has been overwrite to gs://zhongyuan-dw/equity/nasdaqomx/xqc/2017/history.csv\n",
      "======================================================================================================================================================\n",
      "Start date (2018-01-01) & End date (2018-12-31)\n",
      "('id', 41168791)\n",
      "('dataset_code', 'XQC')\n",
      "('database_code', 'NASDAQOMX')\n",
      "('name', 'NASDAQ-100 PM Settlement Value (XQC)')\n",
      "('description', 'For detailed information, see <a href=https://indexes.nasdaqomx.com/Index/Overview/XQC>https://indexes.nasdaqomx.com/Index/Overview/XQC</a>')\n",
      "('refreshed_at', '2020-03-14T05:08:00.380Z')\n",
      "('newest_available_date', '2020-03-13')\n",
      "('oldest_available_date', '2016-12-19')\n",
      "('column_names', ['Trade Date', 'Index Value', 'High', 'Low', 'Total Market Value', 'Dividend Market Value'])\n",
      "('frequency', 'daily')\n",
      "('type', 'Time Series')\n",
      "('premium', False)\n",
      "('database_id', 10471)\n",
      "NASDAQOMX / XQC in 2018 has been overwrite to gs://zhongyuan-dw/equity/nasdaqomx/xqc/2018/history.csv\n",
      "======================================================================================================================================================\n",
      "Start date (2019-01-01) & End date (2019-12-31)\n",
      "('id', 41168791)\n",
      "('dataset_code', 'XQC')\n",
      "('database_code', 'NASDAQOMX')\n",
      "('name', 'NASDAQ-100 PM Settlement Value (XQC)')\n",
      "('description', 'For detailed information, see <a href=https://indexes.nasdaqomx.com/Index/Overview/XQC>https://indexes.nasdaqomx.com/Index/Overview/XQC</a>')\n",
      "('refreshed_at', '2020-03-14T05:08:00.380Z')\n",
      "('newest_available_date', '2020-03-13')\n",
      "('oldest_available_date', '2016-12-19')\n",
      "('column_names', ['Trade Date', 'Index Value', 'High', 'Low', 'Total Market Value', 'Dividend Market Value'])\n",
      "('frequency', 'daily')\n",
      "('type', 'Time Series')\n",
      "('premium', False)\n",
      "('database_id', 10471)\n",
      "NASDAQOMX / XQC in 2019 has been overwrite to gs://zhongyuan-dw/equity/nasdaqomx/xqc/2019/history.csv\n",
      "======================================================================================================================================================\n",
      "Extracting XNDXT25 : total_return_index\n",
      "Start date (2016-01-01) & End date (2016-12-31)\n",
      "('id', 41168787)\n",
      "('dataset_code', 'XNDXT25')\n",
      "('database_code', 'NASDAQOMX')\n",
      "('name', 'NASDAQ-100 Target 25 Total Return Index(XNDXT25)')\n",
      "('description', 'For detailed information, see <a href=https://indexes.nasdaqomx.com/Index/Overview/XNDXT25>https://indexes.nasdaqomx.com/Index/Overview/XNDXT25</a>')\n",
      "('refreshed_at', '2020-03-14T05:08:00.353Z')\n",
      "('newest_available_date', '2020-03-13')\n",
      "('oldest_available_date', '2017-05-01')\n",
      "('column_names', ['Trade Date', 'Index Value', 'High', 'Low', 'Total Market Value', 'Dividend Market Value'])\n",
      "('frequency', 'daily')\n",
      "('type', 'Time Series')\n",
      "('premium', False)\n",
      "('database_id', 10471)\n"
     ]
    },
    {
     "ename": "ValueError",
     "evalue": "Start date (2016-01-01) needs to be larger than the oldest available date (2017-05-01)",
     "output_type": "error",
     "traceback": [
      "\u001b[0;31m---------------------------------------------------------------------------\u001b[0m",
      "\u001b[0;31mValueError\u001b[0m                                Traceback (most recent call last)",
      "\u001b[0;32m~/quant/notebooks/etl/quandl/update_additional_info.py\u001b[0m in \u001b[0;36m<module>\u001b[0;34m\u001b[0m\n\u001b[1;32m     43\u001b[0m     \u001b[0;32melse\u001b[0m\u001b[0;34m:\u001b[0m\u001b[0;34m\u001b[0m\u001b[0;34m\u001b[0m\u001b[0m\n\u001b[1;32m     44\u001b[0m         raise ValueError(\"Start date ({start_date}) needs to be larger than the oldest available date ({new_start_date})\"\n\u001b[0;32m---> 45\u001b[0;31m                          .format(start_date=start_date, new_start_date=oldest_available_date))\n\u001b[0m\u001b[1;32m     46\u001b[0m \u001b[0;34m\u001b[0m\u001b[0m\n\u001b[1;32m     47\u001b[0m \u001b[0;32mif\u001b[0m \u001b[0mdt\u001b[0m\u001b[0;34m.\u001b[0m\u001b[0mstrptime\u001b[0m\u001b[0;34m(\u001b[0m\u001b[0mend_date\u001b[0m\u001b[0;34m,\u001b[0m \u001b[0;34m\"%Y-%m-%d\"\u001b[0m\u001b[0;34m)\u001b[0m \u001b[0;34m>\u001b[0m \u001b[0mdt\u001b[0m\u001b[0;34m.\u001b[0m\u001b[0mstrptime\u001b[0m\u001b[0;34m(\u001b[0m\u001b[0mnewest_available_date\u001b[0m\u001b[0;34m,\u001b[0m \u001b[0;34m\"%Y-%m-%d\"\u001b[0m\u001b[0;34m)\u001b[0m\u001b[0;34m:\u001b[0m\u001b[0;34m\u001b[0m\u001b[0;34m\u001b[0m\u001b[0m\n",
      "\u001b[0;31mValueError\u001b[0m: Start date (2016-01-01) needs to be larger than the oldest available date (2017-05-01)"
     ]
    },
    {
     "name": "stdout",
     "output_type": "stream",
     "text": [
      "======================================================================================================================================================\n",
      "Start date (2017-01-01) & End date (2017-12-31)\n",
      "('id', 41168787)\n",
      "('dataset_code', 'XNDXT25')\n",
      "('database_code', 'NASDAQOMX')\n",
      "('name', 'NASDAQ-100 Target 25 Total Return Index(XNDXT25)')\n",
      "('description', 'For detailed information, see <a href=https://indexes.nasdaqomx.com/Index/Overview/XNDXT25>https://indexes.nasdaqomx.com/Index/Overview/XNDXT25</a>')\n",
      "('refreshed_at', '2020-03-14T05:08:00.353Z')\n",
      "('newest_available_date', '2020-03-13')\n",
      "('oldest_available_date', '2017-05-01')\n",
      "('column_names', ['Trade Date', 'Index Value', 'High', 'Low', 'Total Market Value', 'Dividend Market Value'])\n",
      "('frequency', 'daily')\n",
      "('type', 'Time Series')\n",
      "('premium', False)\n",
      "('database_id', 10471)\n",
      "NASDAQOMX / XNDXT25 in 2017 has been overwrite to gs://zhongyuan-dw/equity/nasdaqomx/xndxt25/2017/history.csv\n",
      "======================================================================================================================================================\n",
      "Start date (2018-01-01) & End date (2018-12-31)\n",
      "('id', 41168787)\n",
      "('dataset_code', 'XNDXT25')\n",
      "('database_code', 'NASDAQOMX')\n",
      "('name', 'NASDAQ-100 Target 25 Total Return Index(XNDXT25)')\n",
      "('description', 'For detailed information, see <a href=https://indexes.nasdaqomx.com/Index/Overview/XNDXT25>https://indexes.nasdaqomx.com/Index/Overview/XNDXT25</a>')\n",
      "('refreshed_at', '2020-03-14T05:08:00.353Z')\n",
      "('newest_available_date', '2020-03-13')\n",
      "('oldest_available_date', '2017-05-01')\n",
      "('column_names', ['Trade Date', 'Index Value', 'High', 'Low', 'Total Market Value', 'Dividend Market Value'])\n",
      "('frequency', 'daily')\n",
      "('type', 'Time Series')\n",
      "('premium', False)\n",
      "('database_id', 10471)\n",
      "NASDAQOMX / XNDXT25 in 2018 has been overwrite to gs://zhongyuan-dw/equity/nasdaqomx/xndxt25/2018/history.csv\n",
      "======================================================================================================================================================\n",
      "Start date (2019-01-01) & End date (2019-12-31)\n",
      "('id', 41168787)\n",
      "('dataset_code', 'XNDXT25')\n",
      "('database_code', 'NASDAQOMX')\n",
      "('name', 'NASDAQ-100 Target 25 Total Return Index(XNDXT25)')\n",
      "('description', 'For detailed information, see <a href=https://indexes.nasdaqomx.com/Index/Overview/XNDXT25>https://indexes.nasdaqomx.com/Index/Overview/XNDXT25</a>')\n",
      "('refreshed_at', '2020-03-14T05:08:00.353Z')\n",
      "('newest_available_date', '2020-03-13')\n",
      "('oldest_available_date', '2017-05-01')\n",
      "('column_names', ['Trade Date', 'Index Value', 'High', 'Low', 'Total Market Value', 'Dividend Market Value'])\n",
      "('frequency', 'daily')\n",
      "('type', 'Time Series')\n",
      "('premium', False)\n",
      "('database_id', 10471)\n",
      "NASDAQOMX / XNDXT25 in 2019 has been overwrite to gs://zhongyuan-dw/equity/nasdaqomx/xndxt25/2019/history.csv\n",
      "======================================================================================================================================================\n",
      "Extracting XNDXT25NNR : national_net_return_index\n",
      "Start date (2016-01-01) & End date (2016-12-31)\n",
      "('id', 41168790)\n",
      "('dataset_code', 'XNDXT25NNR')\n",
      "('database_code', 'NASDAQOMX')\n",
      "('name', 'NASDAQ-100 Target 25 Notional Net Return Index(XNDXT25NNR)')\n",
      "('description', 'For detailed information, see <a href=https://indexes.nasdaqomx.com/Index/Overview/XNDXT25NNR>https://indexes.nasdaqomx.com/Index/Overview/XNDXT25NNR</a>')\n",
      "('refreshed_at', '2020-03-14T05:08:00.373Z')\n",
      "('newest_available_date', '2020-03-13')\n",
      "('oldest_available_date', '2017-04-27')\n",
      "('column_names', ['Trade Date', 'Index Value', 'High', 'Low', 'Total Market Value', 'Dividend Market Value'])\n",
      "('frequency', 'daily')\n",
      "('type', 'Time Series')\n",
      "('premium', False)\n",
      "('database_id', 10471)\n"
     ]
    },
    {
     "ename": "ValueError",
     "evalue": "Start date (2016-01-01) needs to be larger than the oldest available date (2017-04-27)",
     "output_type": "error",
     "traceback": [
      "\u001b[0;31m---------------------------------------------------------------------------\u001b[0m",
      "\u001b[0;31mValueError\u001b[0m                                Traceback (most recent call last)",
      "\u001b[0;32m~/quant/notebooks/etl/quandl/update_additional_info.py\u001b[0m in \u001b[0;36m<module>\u001b[0;34m\u001b[0m\n\u001b[1;32m     43\u001b[0m     \u001b[0;32melse\u001b[0m\u001b[0;34m:\u001b[0m\u001b[0;34m\u001b[0m\u001b[0;34m\u001b[0m\u001b[0m\n\u001b[1;32m     44\u001b[0m         raise ValueError(\"Start date ({start_date}) needs to be larger than the oldest available date ({new_start_date})\"\n\u001b[0;32m---> 45\u001b[0;31m                          .format(start_date=start_date, new_start_date=oldest_available_date))\n\u001b[0m\u001b[1;32m     46\u001b[0m \u001b[0;34m\u001b[0m\u001b[0m\n\u001b[1;32m     47\u001b[0m \u001b[0;32mif\u001b[0m \u001b[0mdt\u001b[0m\u001b[0;34m.\u001b[0m\u001b[0mstrptime\u001b[0m\u001b[0;34m(\u001b[0m\u001b[0mend_date\u001b[0m\u001b[0;34m,\u001b[0m \u001b[0;34m\"%Y-%m-%d\"\u001b[0m\u001b[0;34m)\u001b[0m \u001b[0;34m>\u001b[0m \u001b[0mdt\u001b[0m\u001b[0;34m.\u001b[0m\u001b[0mstrptime\u001b[0m\u001b[0;34m(\u001b[0m\u001b[0mnewest_available_date\u001b[0m\u001b[0;34m,\u001b[0m \u001b[0;34m\"%Y-%m-%d\"\u001b[0m\u001b[0;34m)\u001b[0m\u001b[0;34m:\u001b[0m\u001b[0;34m\u001b[0m\u001b[0;34m\u001b[0m\u001b[0m\n",
      "\u001b[0;31mValueError\u001b[0m: Start date (2016-01-01) needs to be larger than the oldest available date (2017-04-27)"
     ]
    },
    {
     "name": "stdout",
     "output_type": "stream",
     "text": [
      "======================================================================================================================================================\n",
      "Start date (2017-01-01) & End date (2017-12-31)\n",
      "('id', 41168790)\n",
      "('dataset_code', 'XNDXT25NNR')\n",
      "('database_code', 'NASDAQOMX')\n",
      "('name', 'NASDAQ-100 Target 25 Notional Net Return Index(XNDXT25NNR)')\n",
      "('description', 'For detailed information, see <a href=https://indexes.nasdaqomx.com/Index/Overview/XNDXT25NNR>https://indexes.nasdaqomx.com/Index/Overview/XNDXT25NNR</a>')\n",
      "('refreshed_at', '2020-03-14T05:08:00.373Z')\n",
      "('newest_available_date', '2020-03-13')\n",
      "('oldest_available_date', '2017-04-27')\n",
      "('column_names', ['Trade Date', 'Index Value', 'High', 'Low', 'Total Market Value', 'Dividend Market Value'])\n",
      "('frequency', 'daily')\n",
      "('type', 'Time Series')\n",
      "('premium', False)\n",
      "('database_id', 10471)\n",
      "NASDAQOMX / XNDXT25NNR in 2017 has been overwrite to gs://zhongyuan-dw/equity/nasdaqomx/xndxt25nnr/2017/history.csv\n",
      "======================================================================================================================================================\n",
      "Start date (2018-01-01) & End date (2018-12-31)\n",
      "('id', 41168790)\n",
      "('dataset_code', 'XNDXT25NNR')\n",
      "('database_code', 'NASDAQOMX')\n",
      "('name', 'NASDAQ-100 Target 25 Notional Net Return Index(XNDXT25NNR)')\n",
      "('description', 'For detailed information, see <a href=https://indexes.nasdaqomx.com/Index/Overview/XNDXT25NNR>https://indexes.nasdaqomx.com/Index/Overview/XNDXT25NNR</a>')\n",
      "('refreshed_at', '2020-03-14T05:08:00.373Z')\n",
      "('newest_available_date', '2020-03-13')\n",
      "('oldest_available_date', '2017-04-27')\n",
      "('column_names', ['Trade Date', 'Index Value', 'High', 'Low', 'Total Market Value', 'Dividend Market Value'])\n",
      "('frequency', 'daily')\n",
      "('type', 'Time Series')\n",
      "('premium', False)\n",
      "('database_id', 10471)\n",
      "NASDAQOMX / XNDXT25NNR in 2018 has been overwrite to gs://zhongyuan-dw/equity/nasdaqomx/xndxt25nnr/2018/history.csv\n",
      "======================================================================================================================================================\n",
      "Start date (2019-01-01) & End date (2019-12-31)\n",
      "('id', 41168790)\n",
      "('dataset_code', 'XNDXT25NNR')\n",
      "('database_code', 'NASDAQOMX')\n",
      "('name', 'NASDAQ-100 Target 25 Notional Net Return Index(XNDXT25NNR)')\n",
      "('description', 'For detailed information, see <a href=https://indexes.nasdaqomx.com/Index/Overview/XNDXT25NNR>https://indexes.nasdaqomx.com/Index/Overview/XNDXT25NNR</a>')\n",
      "('refreshed_at', '2020-03-14T05:08:00.373Z')\n",
      "('newest_available_date', '2020-03-13')\n",
      "('oldest_available_date', '2017-04-27')\n",
      "('column_names', ['Trade Date', 'Index Value', 'High', 'Low', 'Total Market Value', 'Dividend Market Value'])\n",
      "('frequency', 'daily')\n",
      "('type', 'Time Series')\n",
      "('premium', False)\n",
      "('database_id', 10471)\n",
      "NASDAQOMX / XNDXT25NNR in 2019 has been overwrite to gs://zhongyuan-dw/equity/nasdaqomx/xndxt25nnr/2019/history.csv\n",
      "======================================================================================================================================================\n"
     ]
    }
   ],
   "source": [
    "# Recently executed on\n",
    "print(datetime.now())\n",
    "print(\"======================================================================================================================================================\")\n",
    "\n",
    "data_category = EQUITY\n",
    "db_name = NASDAQ_DATABASE_CODE\n",
    "\n",
    "for name, desc in DATASET_CODE_MAP.items():\n",
    "    ds_name = name\n",
    "    print(\"Extracting {ds_name} : {desc}\".format(ds_name=ds_name, desc=desc))\n",
    "    \n",
    "    # years from 2016 to 2019\n",
    "    for year in range(2016,2020):\n",
    "        %run -i 'notebooks/etl/quandl/update_additional_info.py'\n",
    "        print(\"======================================================================================================================================================\")"
   ]
  },
  {
   "cell_type": "code",
   "execution_count": null,
   "metadata": {},
   "outputs": [],
   "source": []
  }
 ],
 "metadata": {
  "kernelspec": {
   "display_name": "Python 3",
   "language": "python",
   "name": "python3"
  },
  "language_info": {
   "codemirror_mode": {
    "name": "ipython",
    "version": 3
   },
   "file_extension": ".py",
   "mimetype": "text/x-python",
   "name": "python",
   "nbconvert_exporter": "python",
   "pygments_lexer": "ipython3",
   "version": "3.7.6"
  }
 },
 "nbformat": 4,
 "nbformat_minor": 4
}
