{
 "cells": [
  {
   "cell_type": "code",
   "execution_count": 2,
   "metadata": {},
   "outputs": [
    {
     "name": "stdout",
     "output_type": "stream",
     "text": [
      "/home/jupyter/quant\n"
     ]
    }
   ],
   "source": [
    "# Due to the file system setting of the Jupyter Notebook, navigate to the package to use infra\n",
    "%cd /home/jupyter/quant"
   ]
  },
  {
   "cell_type": "markdown",
   "metadata": {},
   "source": [
    "### The following data has been executed and saved. Please be aware of overwritting the existing data.\n",
    "\n",
    "#### Use notebook `update` to update data for the most recent year"
   ]
  },
  {
   "cell_type": "code",
   "execution_count": 3,
   "metadata": {},
   "outputs": [],
   "source": [
    "from datetime import datetime\n",
    "\n",
    "from yitian.datasource.quandl.opec import NAME, OPEC_DATABASE_CODE, OPEC_DATASET_CODE"
   ]
  },
  {
   "cell_type": "markdown",
   "metadata": {},
   "source": [
    "OPEC Historical Data from 2000 to 2019"
   ]
  },
  {
   "cell_type": "code",
   "execution_count": 4,
   "metadata": {},
   "outputs": [
    {
     "name": "stdout",
     "output_type": "stream",
     "text": [
      "2020-03-15 02:15:08.820475\n",
      "======================================================================================================================================================\n",
      "The start date is set to 2003-01-01 & The end date is set to 2003-12-31\n",
      "('id', 2288715)\n",
      "('dataset_code', 'ORB')\n",
      "('database_code', 'OPEC')\n",
      "('name', 'OPEC Crude Oil Price')\n",
      "('description', 'Reference Price for the OPEC Crude Oil Basket.  Currently includes: Saharan Blend (Algeria), Girassol (Angola), Oriente (Ecuador), Iran Heavy (Islamic Republic of Iran), Basra Light (Iraq), Kuwait Export (Kuwait), Es Sider (Libya), Bonny Light (Nigeria), Qatar Marine (Qatar), Arab Light (Saudi Arabia), Murban (UAE) and Merey (Venezuela).')\n",
      "('refreshed_at', '2020-03-13T12:32:05.707Z')\n",
      "('newest_available_date', '2020-03-12')\n",
      "('oldest_available_date', '2003-01-02')\n",
      "('column_names', ['Date', 'Value'])\n",
      "('frequency', 'daily')\n",
      "('type', 'Time Series')\n",
      "('premium', False)\n",
      "('database_id', 381)\n"
     ]
    },
    {
     "name": "stderr",
     "output_type": "stream",
     "text": [
      "Removing all objects in a sub-directory\n"
     ]
    },
    {
     "name": "stdout",
     "output_type": "stream",
     "text": [
      "2003-01-02_2003-12-31_daily.csv has been overwrite to gs://zhongyuan-dw/commodity/opec/2003/2003-01-02_2003-12-31_daily.csv\n",
      "======================================================================================================================================================\n",
      "The start date is set to 2004-01-01 & The end date is set to 2004-12-31\n",
      "('id', 2288715)\n",
      "('dataset_code', 'ORB')\n",
      "('database_code', 'OPEC')\n",
      "('name', 'OPEC Crude Oil Price')\n",
      "('description', 'Reference Price for the OPEC Crude Oil Basket.  Currently includes: Saharan Blend (Algeria), Girassol (Angola), Oriente (Ecuador), Iran Heavy (Islamic Republic of Iran), Basra Light (Iraq), Kuwait Export (Kuwait), Es Sider (Libya), Bonny Light (Nigeria), Qatar Marine (Qatar), Arab Light (Saudi Arabia), Murban (UAE) and Merey (Venezuela).')\n",
      "('refreshed_at', '2020-03-13T12:32:05.707Z')\n",
      "('newest_available_date', '2020-03-12')\n",
      "('oldest_available_date', '2003-01-02')\n",
      "('column_names', ['Date', 'Value'])\n",
      "('frequency', 'daily')\n",
      "('type', 'Time Series')\n",
      "('premium', False)\n",
      "('database_id', 381)\n"
     ]
    },
    {
     "name": "stderr",
     "output_type": "stream",
     "text": [
      "Removing all objects in a sub-directory\n"
     ]
    },
    {
     "name": "stdout",
     "output_type": "stream",
     "text": [
      "2004-01-01_2004-12-31_daily.csv has been overwrite to gs://zhongyuan-dw/commodity/opec/2004/2004-01-01_2004-12-31_daily.csv\n",
      "======================================================================================================================================================\n",
      "The start date is set to 2005-01-01 & The end date is set to 2005-12-31\n",
      "('id', 2288715)\n",
      "('dataset_code', 'ORB')\n",
      "('database_code', 'OPEC')\n",
      "('name', 'OPEC Crude Oil Price')\n",
      "('description', 'Reference Price for the OPEC Crude Oil Basket.  Currently includes: Saharan Blend (Algeria), Girassol (Angola), Oriente (Ecuador), Iran Heavy (Islamic Republic of Iran), Basra Light (Iraq), Kuwait Export (Kuwait), Es Sider (Libya), Bonny Light (Nigeria), Qatar Marine (Qatar), Arab Light (Saudi Arabia), Murban (UAE) and Merey (Venezuela).')\n",
      "('refreshed_at', '2020-03-13T12:32:05.707Z')\n",
      "('newest_available_date', '2020-03-12')\n",
      "('oldest_available_date', '2003-01-02')\n",
      "('column_names', ['Date', 'Value'])\n",
      "('frequency', 'daily')\n",
      "('type', 'Time Series')\n",
      "('premium', False)\n",
      "('database_id', 381)\n"
     ]
    },
    {
     "name": "stderr",
     "output_type": "stream",
     "text": [
      "Removing all objects in a sub-directory\n"
     ]
    },
    {
     "name": "stdout",
     "output_type": "stream",
     "text": [
      "2005-01-01_2005-12-31_daily.csv has been overwrite to gs://zhongyuan-dw/commodity/opec/2005/2005-01-01_2005-12-31_daily.csv\n",
      "======================================================================================================================================================\n",
      "The start date is set to 2006-01-01 & The end date is set to 2006-12-31\n",
      "('id', 2288715)\n",
      "('dataset_code', 'ORB')\n",
      "('database_code', 'OPEC')\n",
      "('name', 'OPEC Crude Oil Price')\n",
      "('description', 'Reference Price for the OPEC Crude Oil Basket.  Currently includes: Saharan Blend (Algeria), Girassol (Angola), Oriente (Ecuador), Iran Heavy (Islamic Republic of Iran), Basra Light (Iraq), Kuwait Export (Kuwait), Es Sider (Libya), Bonny Light (Nigeria), Qatar Marine (Qatar), Arab Light (Saudi Arabia), Murban (UAE) and Merey (Venezuela).')\n",
      "('refreshed_at', '2020-03-13T12:32:05.707Z')\n",
      "('newest_available_date', '2020-03-12')\n",
      "('oldest_available_date', '2003-01-02')\n",
      "('column_names', ['Date', 'Value'])\n",
      "('frequency', 'daily')\n",
      "('type', 'Time Series')\n",
      "('premium', False)\n",
      "('database_id', 381)\n"
     ]
    },
    {
     "name": "stderr",
     "output_type": "stream",
     "text": [
      "Removing all objects in a sub-directory\n"
     ]
    },
    {
     "name": "stdout",
     "output_type": "stream",
     "text": [
      "2006-01-01_2006-12-31_daily.csv has been overwrite to gs://zhongyuan-dw/commodity/opec/2006/2006-01-01_2006-12-31_daily.csv\n",
      "======================================================================================================================================================\n",
      "The start date is set to 2007-01-01 & The end date is set to 2007-12-31\n",
      "('id', 2288715)\n",
      "('dataset_code', 'ORB')\n",
      "('database_code', 'OPEC')\n",
      "('name', 'OPEC Crude Oil Price')\n",
      "('description', 'Reference Price for the OPEC Crude Oil Basket.  Currently includes: Saharan Blend (Algeria), Girassol (Angola), Oriente (Ecuador), Iran Heavy (Islamic Republic of Iran), Basra Light (Iraq), Kuwait Export (Kuwait), Es Sider (Libya), Bonny Light (Nigeria), Qatar Marine (Qatar), Arab Light (Saudi Arabia), Murban (UAE) and Merey (Venezuela).')\n",
      "('refreshed_at', '2020-03-13T12:32:05.707Z')\n",
      "('newest_available_date', '2020-03-12')\n",
      "('oldest_available_date', '2003-01-02')\n",
      "('column_names', ['Date', 'Value'])\n",
      "('frequency', 'daily')\n",
      "('type', 'Time Series')\n",
      "('premium', False)\n",
      "('database_id', 381)\n"
     ]
    },
    {
     "name": "stderr",
     "output_type": "stream",
     "text": [
      "Removing all objects in a sub-directory\n"
     ]
    },
    {
     "name": "stdout",
     "output_type": "stream",
     "text": [
      "2007-01-01_2007-12-31_daily.csv has been overwrite to gs://zhongyuan-dw/commodity/opec/2007/2007-01-01_2007-12-31_daily.csv\n",
      "======================================================================================================================================================\n",
      "The start date is set to 2008-01-01 & The end date is set to 2008-12-31\n",
      "('id', 2288715)\n",
      "('dataset_code', 'ORB')\n",
      "('database_code', 'OPEC')\n",
      "('name', 'OPEC Crude Oil Price')\n",
      "('description', 'Reference Price for the OPEC Crude Oil Basket.  Currently includes: Saharan Blend (Algeria), Girassol (Angola), Oriente (Ecuador), Iran Heavy (Islamic Republic of Iran), Basra Light (Iraq), Kuwait Export (Kuwait), Es Sider (Libya), Bonny Light (Nigeria), Qatar Marine (Qatar), Arab Light (Saudi Arabia), Murban (UAE) and Merey (Venezuela).')\n",
      "('refreshed_at', '2020-03-13T12:32:05.707Z')\n",
      "('newest_available_date', '2020-03-12')\n",
      "('oldest_available_date', '2003-01-02')\n",
      "('column_names', ['Date', 'Value'])\n",
      "('frequency', 'daily')\n",
      "('type', 'Time Series')\n",
      "('premium', False)\n",
      "('database_id', 381)\n"
     ]
    },
    {
     "name": "stderr",
     "output_type": "stream",
     "text": [
      "Removing all objects in a sub-directory\n"
     ]
    },
    {
     "name": "stdout",
     "output_type": "stream",
     "text": [
      "2008-01-01_2008-12-31_daily.csv has been overwrite to gs://zhongyuan-dw/commodity/opec/2008/2008-01-01_2008-12-31_daily.csv\n",
      "======================================================================================================================================================\n",
      "The start date is set to 2009-01-01 & The end date is set to 2009-12-31\n",
      "('id', 2288715)\n",
      "('dataset_code', 'ORB')\n",
      "('database_code', 'OPEC')\n",
      "('name', 'OPEC Crude Oil Price')\n",
      "('description', 'Reference Price for the OPEC Crude Oil Basket.  Currently includes: Saharan Blend (Algeria), Girassol (Angola), Oriente (Ecuador), Iran Heavy (Islamic Republic of Iran), Basra Light (Iraq), Kuwait Export (Kuwait), Es Sider (Libya), Bonny Light (Nigeria), Qatar Marine (Qatar), Arab Light (Saudi Arabia), Murban (UAE) and Merey (Venezuela).')\n",
      "('refreshed_at', '2020-03-13T12:32:05.707Z')\n",
      "('newest_available_date', '2020-03-12')\n",
      "('oldest_available_date', '2003-01-02')\n",
      "('column_names', ['Date', 'Value'])\n",
      "('frequency', 'daily')\n",
      "('type', 'Time Series')\n",
      "('premium', False)\n",
      "('database_id', 381)\n"
     ]
    },
    {
     "name": "stderr",
     "output_type": "stream",
     "text": [
      "Removing all objects in a sub-directory\n"
     ]
    },
    {
     "name": "stdout",
     "output_type": "stream",
     "text": [
      "2009-01-01_2009-12-31_daily.csv has been overwrite to gs://zhongyuan-dw/commodity/opec/2009/2009-01-01_2009-12-31_daily.csv\n",
      "======================================================================================================================================================\n",
      "The start date is set to 2010-01-01 & The end date is set to 2010-12-31\n",
      "('id', 2288715)\n",
      "('dataset_code', 'ORB')\n",
      "('database_code', 'OPEC')\n",
      "('name', 'OPEC Crude Oil Price')\n",
      "('description', 'Reference Price for the OPEC Crude Oil Basket.  Currently includes: Saharan Blend (Algeria), Girassol (Angola), Oriente (Ecuador), Iran Heavy (Islamic Republic of Iran), Basra Light (Iraq), Kuwait Export (Kuwait), Es Sider (Libya), Bonny Light (Nigeria), Qatar Marine (Qatar), Arab Light (Saudi Arabia), Murban (UAE) and Merey (Venezuela).')\n",
      "('refreshed_at', '2020-03-13T12:32:05.707Z')\n",
      "('newest_available_date', '2020-03-12')\n",
      "('oldest_available_date', '2003-01-02')\n",
      "('column_names', ['Date', 'Value'])\n",
      "('frequency', 'daily')\n",
      "('type', 'Time Series')\n",
      "('premium', False)\n",
      "('database_id', 381)\n"
     ]
    },
    {
     "name": "stderr",
     "output_type": "stream",
     "text": [
      "Removing all objects in a sub-directory\n"
     ]
    },
    {
     "name": "stdout",
     "output_type": "stream",
     "text": [
      "2010-01-01_2010-12-31_daily.csv has been overwrite to gs://zhongyuan-dw/commodity/opec/2010/2010-01-01_2010-12-31_daily.csv\n",
      "======================================================================================================================================================\n",
      "The start date is set to 2011-01-01 & The end date is set to 2011-12-31\n",
      "('id', 2288715)\n",
      "('dataset_code', 'ORB')\n",
      "('database_code', 'OPEC')\n",
      "('name', 'OPEC Crude Oil Price')\n",
      "('description', 'Reference Price for the OPEC Crude Oil Basket.  Currently includes: Saharan Blend (Algeria), Girassol (Angola), Oriente (Ecuador), Iran Heavy (Islamic Republic of Iran), Basra Light (Iraq), Kuwait Export (Kuwait), Es Sider (Libya), Bonny Light (Nigeria), Qatar Marine (Qatar), Arab Light (Saudi Arabia), Murban (UAE) and Merey (Venezuela).')\n",
      "('refreshed_at', '2020-03-13T12:32:05.707Z')\n",
      "('newest_available_date', '2020-03-12')\n",
      "('oldest_available_date', '2003-01-02')\n",
      "('column_names', ['Date', 'Value'])\n",
      "('frequency', 'daily')\n",
      "('type', 'Time Series')\n",
      "('premium', False)\n",
      "('database_id', 381)\n"
     ]
    },
    {
     "name": "stderr",
     "output_type": "stream",
     "text": [
      "Removing all objects in a sub-directory\n"
     ]
    },
    {
     "name": "stdout",
     "output_type": "stream",
     "text": [
      "2011-01-01_2011-12-31_daily.csv has been overwrite to gs://zhongyuan-dw/commodity/opec/2011/2011-01-01_2011-12-31_daily.csv\n",
      "======================================================================================================================================================\n",
      "The start date is set to 2012-01-01 & The end date is set to 2012-12-31\n",
      "('id', 2288715)\n",
      "('dataset_code', 'ORB')\n",
      "('database_code', 'OPEC')\n",
      "('name', 'OPEC Crude Oil Price')\n",
      "('description', 'Reference Price for the OPEC Crude Oil Basket.  Currently includes: Saharan Blend (Algeria), Girassol (Angola), Oriente (Ecuador), Iran Heavy (Islamic Republic of Iran), Basra Light (Iraq), Kuwait Export (Kuwait), Es Sider (Libya), Bonny Light (Nigeria), Qatar Marine (Qatar), Arab Light (Saudi Arabia), Murban (UAE) and Merey (Venezuela).')\n",
      "('refreshed_at', '2020-03-13T12:32:05.707Z')\n",
      "('newest_available_date', '2020-03-12')\n",
      "('oldest_available_date', '2003-01-02')\n",
      "('column_names', ['Date', 'Value'])\n",
      "('frequency', 'daily')\n",
      "('type', 'Time Series')\n",
      "('premium', False)\n",
      "('database_id', 381)\n"
     ]
    },
    {
     "name": "stderr",
     "output_type": "stream",
     "text": [
      "Removing all objects in a sub-directory\n"
     ]
    },
    {
     "name": "stdout",
     "output_type": "stream",
     "text": [
      "2012-01-01_2012-12-31_daily.csv has been overwrite to gs://zhongyuan-dw/commodity/opec/2012/2012-01-01_2012-12-31_daily.csv\n",
      "======================================================================================================================================================\n",
      "The start date is set to 2013-01-01 & The end date is set to 2013-12-31\n",
      "('id', 2288715)\n",
      "('dataset_code', 'ORB')\n",
      "('database_code', 'OPEC')\n",
      "('name', 'OPEC Crude Oil Price')\n",
      "('description', 'Reference Price for the OPEC Crude Oil Basket.  Currently includes: Saharan Blend (Algeria), Girassol (Angola), Oriente (Ecuador), Iran Heavy (Islamic Republic of Iran), Basra Light (Iraq), Kuwait Export (Kuwait), Es Sider (Libya), Bonny Light (Nigeria), Qatar Marine (Qatar), Arab Light (Saudi Arabia), Murban (UAE) and Merey (Venezuela).')\n",
      "('refreshed_at', '2020-03-13T12:32:05.707Z')\n",
      "('newest_available_date', '2020-03-12')\n",
      "('oldest_available_date', '2003-01-02')\n",
      "('column_names', ['Date', 'Value'])\n",
      "('frequency', 'daily')\n",
      "('type', 'Time Series')\n",
      "('premium', False)\n",
      "('database_id', 381)\n"
     ]
    },
    {
     "name": "stderr",
     "output_type": "stream",
     "text": [
      "Removing all objects in a sub-directory\n"
     ]
    },
    {
     "name": "stdout",
     "output_type": "stream",
     "text": [
      "2013-01-01_2013-12-31_daily.csv has been overwrite to gs://zhongyuan-dw/commodity/opec/2013/2013-01-01_2013-12-31_daily.csv\n",
      "======================================================================================================================================================\n",
      "The start date is set to 2014-01-01 & The end date is set to 2014-12-31\n",
      "('id', 2288715)\n",
      "('dataset_code', 'ORB')\n",
      "('database_code', 'OPEC')\n",
      "('name', 'OPEC Crude Oil Price')\n",
      "('description', 'Reference Price for the OPEC Crude Oil Basket.  Currently includes: Saharan Blend (Algeria), Girassol (Angola), Oriente (Ecuador), Iran Heavy (Islamic Republic of Iran), Basra Light (Iraq), Kuwait Export (Kuwait), Es Sider (Libya), Bonny Light (Nigeria), Qatar Marine (Qatar), Arab Light (Saudi Arabia), Murban (UAE) and Merey (Venezuela).')\n",
      "('refreshed_at', '2020-03-13T12:32:05.707Z')\n",
      "('newest_available_date', '2020-03-12')\n",
      "('oldest_available_date', '2003-01-02')\n",
      "('column_names', ['Date', 'Value'])\n",
      "('frequency', 'daily')\n",
      "('type', 'Time Series')\n",
      "('premium', False)\n",
      "('database_id', 381)\n"
     ]
    },
    {
     "name": "stderr",
     "output_type": "stream",
     "text": [
      "Removing all objects in a sub-directory\n"
     ]
    },
    {
     "name": "stdout",
     "output_type": "stream",
     "text": [
      "2014-01-01_2014-12-31_daily.csv has been overwrite to gs://zhongyuan-dw/commodity/opec/2014/2014-01-01_2014-12-31_daily.csv\n",
      "======================================================================================================================================================\n",
      "The start date is set to 2015-01-01 & The end date is set to 2015-12-31\n",
      "('id', 2288715)\n",
      "('dataset_code', 'ORB')\n",
      "('database_code', 'OPEC')\n",
      "('name', 'OPEC Crude Oil Price')\n",
      "('description', 'Reference Price for the OPEC Crude Oil Basket.  Currently includes: Saharan Blend (Algeria), Girassol (Angola), Oriente (Ecuador), Iran Heavy (Islamic Republic of Iran), Basra Light (Iraq), Kuwait Export (Kuwait), Es Sider (Libya), Bonny Light (Nigeria), Qatar Marine (Qatar), Arab Light (Saudi Arabia), Murban (UAE) and Merey (Venezuela).')\n",
      "('refreshed_at', '2020-03-13T12:32:05.707Z')\n",
      "('newest_available_date', '2020-03-12')\n",
      "('oldest_available_date', '2003-01-02')\n",
      "('column_names', ['Date', 'Value'])\n",
      "('frequency', 'daily')\n",
      "('type', 'Time Series')\n",
      "('premium', False)\n",
      "('database_id', 381)\n"
     ]
    },
    {
     "name": "stderr",
     "output_type": "stream",
     "text": [
      "Removing all objects in a sub-directory\n"
     ]
    },
    {
     "name": "stdout",
     "output_type": "stream",
     "text": [
      "2015-01-01_2015-12-31_daily.csv has been overwrite to gs://zhongyuan-dw/commodity/opec/2015/2015-01-01_2015-12-31_daily.csv\n",
      "======================================================================================================================================================\n",
      "The start date is set to 2016-01-01 & The end date is set to 2016-12-31\n",
      "('id', 2288715)\n",
      "('dataset_code', 'ORB')\n",
      "('database_code', 'OPEC')\n",
      "('name', 'OPEC Crude Oil Price')\n",
      "('description', 'Reference Price for the OPEC Crude Oil Basket.  Currently includes: Saharan Blend (Algeria), Girassol (Angola), Oriente (Ecuador), Iran Heavy (Islamic Republic of Iran), Basra Light (Iraq), Kuwait Export (Kuwait), Es Sider (Libya), Bonny Light (Nigeria), Qatar Marine (Qatar), Arab Light (Saudi Arabia), Murban (UAE) and Merey (Venezuela).')\n",
      "('refreshed_at', '2020-03-13T12:32:05.707Z')\n",
      "('newest_available_date', '2020-03-12')\n",
      "('oldest_available_date', '2003-01-02')\n",
      "('column_names', ['Date', 'Value'])\n",
      "('frequency', 'daily')\n",
      "('type', 'Time Series')\n",
      "('premium', False)\n",
      "('database_id', 381)\n"
     ]
    },
    {
     "name": "stderr",
     "output_type": "stream",
     "text": [
      "Removing all objects in a sub-directory\n"
     ]
    },
    {
     "name": "stdout",
     "output_type": "stream",
     "text": [
      "2016-01-01_2016-12-31_daily.csv has been overwrite to gs://zhongyuan-dw/commodity/opec/2016/2016-01-01_2016-12-31_daily.csv\n",
      "======================================================================================================================================================\n",
      "The start date is set to 2017-01-01 & The end date is set to 2017-12-31\n",
      "('id', 2288715)\n",
      "('dataset_code', 'ORB')\n",
      "('database_code', 'OPEC')\n",
      "('name', 'OPEC Crude Oil Price')\n",
      "('description', 'Reference Price for the OPEC Crude Oil Basket.  Currently includes: Saharan Blend (Algeria), Girassol (Angola), Oriente (Ecuador), Iran Heavy (Islamic Republic of Iran), Basra Light (Iraq), Kuwait Export (Kuwait), Es Sider (Libya), Bonny Light (Nigeria), Qatar Marine (Qatar), Arab Light (Saudi Arabia), Murban (UAE) and Merey (Venezuela).')\n",
      "('refreshed_at', '2020-03-13T12:32:05.707Z')\n",
      "('newest_available_date', '2020-03-12')\n",
      "('oldest_available_date', '2003-01-02')\n",
      "('column_names', ['Date', 'Value'])\n",
      "('frequency', 'daily')\n",
      "('type', 'Time Series')\n",
      "('premium', False)\n",
      "('database_id', 381)\n"
     ]
    },
    {
     "name": "stderr",
     "output_type": "stream",
     "text": [
      "Removing all objects in a sub-directory\n"
     ]
    },
    {
     "name": "stdout",
     "output_type": "stream",
     "text": [
      "2017-01-01_2017-12-31_daily.csv has been overwrite to gs://zhongyuan-dw/commodity/opec/2017/2017-01-01_2017-12-31_daily.csv\n",
      "======================================================================================================================================================\n",
      "The start date is set to 2018-01-01 & The end date is set to 2018-12-31\n",
      "('id', 2288715)\n",
      "('dataset_code', 'ORB')\n",
      "('database_code', 'OPEC')\n",
      "('name', 'OPEC Crude Oil Price')\n",
      "('description', 'Reference Price for the OPEC Crude Oil Basket.  Currently includes: Saharan Blend (Algeria), Girassol (Angola), Oriente (Ecuador), Iran Heavy (Islamic Republic of Iran), Basra Light (Iraq), Kuwait Export (Kuwait), Es Sider (Libya), Bonny Light (Nigeria), Qatar Marine (Qatar), Arab Light (Saudi Arabia), Murban (UAE) and Merey (Venezuela).')\n",
      "('refreshed_at', '2020-03-13T12:32:05.707Z')\n",
      "('newest_available_date', '2020-03-12')\n",
      "('oldest_available_date', '2003-01-02')\n",
      "('column_names', ['Date', 'Value'])\n",
      "('frequency', 'daily')\n",
      "('type', 'Time Series')\n",
      "('premium', False)\n",
      "('database_id', 381)\n"
     ]
    },
    {
     "name": "stderr",
     "output_type": "stream",
     "text": [
      "Removing all objects in a sub-directory\n"
     ]
    },
    {
     "name": "stdout",
     "output_type": "stream",
     "text": [
      "2018-01-01_2018-12-31_daily.csv has been overwrite to gs://zhongyuan-dw/commodity/opec/2018/2018-01-01_2018-12-31_daily.csv\n",
      "======================================================================================================================================================\n",
      "The start date is set to 2019-01-01 & The end date is set to 2019-12-31\n",
      "('id', 2288715)\n",
      "('dataset_code', 'ORB')\n",
      "('database_code', 'OPEC')\n",
      "('name', 'OPEC Crude Oil Price')\n",
      "('description', 'Reference Price for the OPEC Crude Oil Basket.  Currently includes: Saharan Blend (Algeria), Girassol (Angola), Oriente (Ecuador), Iran Heavy (Islamic Republic of Iran), Basra Light (Iraq), Kuwait Export (Kuwait), Es Sider (Libya), Bonny Light (Nigeria), Qatar Marine (Qatar), Arab Light (Saudi Arabia), Murban (UAE) and Merey (Venezuela).')\n",
      "('refreshed_at', '2020-03-13T12:32:05.707Z')\n",
      "('newest_available_date', '2020-03-12')\n",
      "('oldest_available_date', '2003-01-02')\n",
      "('column_names', ['Date', 'Value'])\n",
      "('frequency', 'daily')\n",
      "('type', 'Time Series')\n",
      "('premium', False)\n",
      "('database_id', 381)\n"
     ]
    },
    {
     "name": "stderr",
     "output_type": "stream",
     "text": [
      "Removing all objects in a sub-directory\n"
     ]
    },
    {
     "name": "stdout",
     "output_type": "stream",
     "text": [
      "2019-01-01_2019-12-31_daily.csv has been overwrite to gs://zhongyuan-dw/commodity/opec/2019/2019-01-01_2019-12-31_daily.csv\n",
      "======================================================================================================================================================\n"
     ]
    }
   ],
   "source": [
    "# Recent executed on\n",
    "print(datetime.now())\n",
    "print(\"======================================================================================================================================================\")\n",
    "\n",
    "db_name = OPEC_DATABASE_CODE\n",
    "ds_name = OPEC_DATASET_CODE\n",
    "output_dw_dir = 'commodity/opec'\n",
    "rm_exist_obj = True\n",
    "\n",
    "# years from 2003 to 2019\n",
    "for year in range(2003,2020):\n",
    "    %run -i 'notebooks/etl/quandl/extraction.py'\n",
    "    print(\"======================================================================================================================================================\")\n",
    "    "
   ]
  },
  {
   "cell_type": "code",
   "execution_count": null,
   "metadata": {},
   "outputs": [],
   "source": []
  }
 ],
 "metadata": {
  "kernelspec": {
   "display_name": "Python 3",
   "language": "python",
   "name": "python3"
  },
  "language_info": {
   "codemirror_mode": {
    "name": "ipython",
    "version": 3
   },
   "file_extension": ".py",
   "mimetype": "text/x-python",
   "name": "python",
   "nbconvert_exporter": "python",
   "pygments_lexer": "ipython3",
   "version": "3.7.6"
  }
 },
 "nbformat": 4,
 "nbformat_minor": 4
}
