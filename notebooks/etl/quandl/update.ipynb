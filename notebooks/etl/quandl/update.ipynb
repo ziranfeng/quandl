{
 "cells": [
  {
   "cell_type": "code",
   "execution_count": 1,
   "metadata": {},
   "outputs": [
    {
     "name": "stdout",
     "output_type": "stream",
     "text": [
      "/home/jupyter/quant\n"
     ]
    }
   ],
   "source": [
    "# Due to the file system setting of the Jupyter Notebook, navigate to the package to use infra\n",
    "%cd /home/jupyter/quant"
   ]
  },
  {
   "cell_type": "markdown",
   "metadata": {},
   "source": [
    "### This script is used to update the data for the most recent year"
   ]
  },
  {
   "cell_type": "markdown",
   "metadata": {},
   "source": [
    "#### Set the required paramters of `extraction.py`:\n",
    "\n",
    "Reference of required parameters can be found in `init.py` files in the package directory under `yitian`\n",
    "\n",
    "| parameter     | example          |  description                             |\n",
    "|---------------|------------------|------------------------------------------|\n",
    "| year          | 2020             | the target year for data extraction      |\n",
    "| db_name       | 'NASDAQOMX'      | the data base code from quandl           |\n",
    "| ds_name       | 'XQC'            | the data set code from quandl            |\n",
    "| output_dw_dir | 'commodity/opec' | the sub-dir in data warehouse for output |\n",
    "| rm_exist_obj  | True             | remove objects in output_dw_dir          |"
   ]
  },
  {
   "cell_type": "code",
   "execution_count": 2,
   "metadata": {},
   "outputs": [],
   "source": [
    "from datetime import datetime\n",
    "\n",
    "from yitian.datasource import DATA_WAREHOUSE_LOC, file_utils\n",
    "from yitian.datasource.quandl import nasdaq, opec, fed"
   ]
  },
  {
   "cell_type": "markdown",
   "metadata": {},
   "source": [
    "#### The following setting updates NASDAQ OMX index in 2020"
   ]
  },
  {
   "cell_type": "code",
   "execution_count": 3,
   "metadata": {},
   "outputs": [
    {
     "name": "stdout",
     "output_type": "stream",
     "text": [
      "2020-03-15 02:30:47.537236\n",
      "The start date is set to 2020-01-01 & The end date is set to 2020-12-31\n",
      "('id', 41168791)\n",
      "('dataset_code', 'XQC')\n",
      "('database_code', 'NASDAQOMX')\n",
      "('name', 'NASDAQ-100 PM Settlement Value (XQC)')\n",
      "('description', 'For detailed information, see <a href=https://indexes.nasdaqomx.com/Index/Overview/XQC>https://indexes.nasdaqomx.com/Index/Overview/XQC</a>')\n",
      "('refreshed_at', '2020-03-14T05:08:00.380Z')\n",
      "('newest_available_date', '2020-03-13')\n",
      "('oldest_available_date', '2016-12-19')\n",
      "('column_names', ['Trade Date', 'Index Value', 'High', 'Low', 'Total Market Value', 'Dividend Market Value'])\n",
      "('frequency', 'daily')\n",
      "('type', 'Time Series')\n",
      "('premium', False)\n",
      "('database_id', 10471)\n"
     ]
    },
    {
     "name": "stderr",
     "output_type": "stream",
     "text": [
      "Removing all objects in a sub-directory\n"
     ]
    },
    {
     "name": "stdout",
     "output_type": "stream",
     "text": [
      "Command '['gsutil', 'rm', 'gs://zhongyuan-dw/equity/nasdaq/settlement_value/2020/*']' returned non-zero exit status 1.\n",
      "2020-01-01_2020-03-13_daily.csv has been overwrite to gs://zhongyuan-dw/equity/nasdaq/settlement_value/2020/2020-01-01_2020-03-13_daily.csv\n"
     ]
    }
   ],
   "source": [
    "# Recently executed on\n",
    "print(datetime.now())\n",
    "\n",
    "year = 2020\n",
    "db_name = nasdaq.NASDAQ_DATABASE_CODE\n",
    "ds_name = nasdaq.DATASET_CODE_MAP['settlement_value']\n",
    "output_dw_dir = 'equity/nasdaq/settlement_value'\n",
    "rm_exist_obj = True\n",
    "\n",
    "%run -i 'notebooks/etl/quandl/extraction.py'"
   ]
  },
  {
   "cell_type": "markdown",
   "metadata": {},
   "source": [
    "#### The following setting updates OPEC Oil Price in 2020"
   ]
  },
  {
   "cell_type": "code",
   "execution_count": 4,
   "metadata": {},
   "outputs": [
    {
     "name": "stdout",
     "output_type": "stream",
     "text": [
      "2020-03-15 02:30:56.160143\n",
      "The start date is set to 2020-01-01 & The end date is set to 2020-12-31\n",
      "('id', 2288715)\n",
      "('dataset_code', 'ORB')\n",
      "('database_code', 'OPEC')\n",
      "('name', 'OPEC Crude Oil Price')\n",
      "('description', 'Reference Price for the OPEC Crude Oil Basket.  Currently includes: Saharan Blend (Algeria), Girassol (Angola), Oriente (Ecuador), Iran Heavy (Islamic Republic of Iran), Basra Light (Iraq), Kuwait Export (Kuwait), Es Sider (Libya), Bonny Light (Nigeria), Qatar Marine (Qatar), Arab Light (Saudi Arabia), Murban (UAE) and Merey (Venezuela).')\n",
      "('refreshed_at', '2020-03-13T12:32:05.707Z')\n",
      "('newest_available_date', '2020-03-12')\n",
      "('oldest_available_date', '2003-01-02')\n",
      "('column_names', ['Date', 'Value'])\n",
      "('frequency', 'daily')\n",
      "('type', 'Time Series')\n",
      "('premium', False)\n",
      "('database_id', 381)\n"
     ]
    },
    {
     "name": "stderr",
     "output_type": "stream",
     "text": [
      "Removing all objects in a sub-directory\n"
     ]
    },
    {
     "name": "stdout",
     "output_type": "stream",
     "text": [
      "2020-01-01_2020-03-12_daily.csv has been overwrite to gs://zhongyuan-dw/commodity/opec/2020/2020-01-01_2020-03-12_daily.csv\n"
     ]
    }
   ],
   "source": [
    "# Recently executed on\n",
    "print(datetime.now())\n",
    "\n",
    "year = 2020\n",
    "db_name = opec.OPEC_DATABASE_CODE\n",
    "ds_name = opec.OPEC_DATASET_CODE\n",
    "output_dw_dir = 'commodity/opec'\n",
    "rm_exist_obj = True\n",
    "\n",
    "%run -i 'notebooks/etl/quandl/extraction.py'"
   ]
  },
  {
   "cell_type": "markdown",
   "metadata": {},
   "source": [
    "#### The following setting updates US Fed rates in 2020"
   ]
  },
  {
   "cell_type": "code",
   "execution_count": 5,
   "metadata": {},
   "outputs": [
    {
     "name": "stdout",
     "output_type": "stream",
     "text": [
      "2020-03-15 02:30:59.208877\n",
      "The start date is set to 2020-01-01 & The end date is set to 2020-12-31\n",
      "('id', 14468012)\n",
      "('dataset_code', 'SVENPY')\n",
      "('database_code', 'FED')\n",
      "('name', 'US Treasury Par Yield Curve')\n",
      "('description', 'These yield curves are an off-the-run Treasury yield curve based on a large set of outstanding Treasury notes and bonds, and are based on a coupon-equivalent compounding convention. Values are daily estimates of the yield curve from 1961 for the entire maturity range spanned by outstanding Treasury securities.<br><br>More detailed information is available at <a href=http://www.federalreserve.gov/pubs/feds/2006/200628/200628pap.pdf>http://www.federalreserve.gov/pubs/feds/2006/200628/200628pap.pdf</a>')\n",
      "('refreshed_at', '2020-03-13T04:06:13.015Z')\n",
      "('newest_available_date', '2020-03-06')\n",
      "('oldest_available_date', '1961-06-14')\n",
      "('column_names', ['Date', 'SVENPY01', 'SVENPY02', 'SVENPY03', 'SVENPY04', 'SVENPY05', 'SVENPY06', 'SVENPY07', 'SVENPY08', 'SVENPY09', 'SVENPY10', 'SVENPY11', 'SVENPY12', 'SVENPY13', 'SVENPY14', 'SVENPY15', 'SVENPY16', 'SVENPY17', 'SVENPY18', 'SVENPY19', 'SVENPY20', 'SVENPY21', 'SVENPY22', 'SVENPY23', 'SVENPY24', 'SVENPY25', 'SVENPY26', 'SVENPY27', 'SVENPY28', 'SVENPY29', 'SVENPY30'])\n",
      "('frequency', 'daily')\n",
      "('type', 'Time Series')\n",
      "('premium', False)\n",
      "('database_id', 59)\n"
     ]
    },
    {
     "name": "stderr",
     "output_type": "stream",
     "text": [
      "Removing all objects in a sub-directory\n"
     ]
    },
    {
     "name": "stdout",
     "output_type": "stream",
     "text": [
      "2020-01-01_2020-03-06_daily.csv has been overwrite to gs://zhongyuan-dw/interest_rate/fed/us_trsy_par_yc/2020/2020-01-01_2020-03-06_daily.csv\n",
      "The start date is set to 2020-01-01 & The end date is set to 2020-12-31\n",
      "('id', 14468014)\n",
      "('dataset_code', 'SVENY')\n",
      "('database_code', 'FED')\n",
      "('name', 'US Treasury Zero-Coupon Yield Curve')\n",
      "('description', 'These yield curves are an off-the-run Treasury yield curve based on a large set of outstanding Treasury notes and bonds, and are based on a continuous compounding convention. Values are daily estimates of the yield curve from 1961 for the entire maturity range spanned by outstanding Treasury securities.<br><br>More detailed information is available at <a href=http://www.federalreserve.gov/pubs/feds/2006/200628/200628pap.pdf>http://www.federalreserve.gov/pubs/feds/2006/200628/200628pap.pdf</a>')\n",
      "('refreshed_at', '2020-03-13T04:06:12.992Z')\n",
      "('newest_available_date', '2020-03-06')\n",
      "('oldest_available_date', '1961-06-14')\n",
      "('column_names', ['Date', 'SVENY01', 'SVENY02', 'SVENY03', 'SVENY04', 'SVENY05', 'SVENY06', 'SVENY07', 'SVENY08', 'SVENY09', 'SVENY10', 'SVENY11', 'SVENY12', 'SVENY13', 'SVENY14', 'SVENY15', 'SVENY16', 'SVENY17', 'SVENY18', 'SVENY19', 'SVENY20', 'SVENY21', 'SVENY22', 'SVENY23', 'SVENY24', 'SVENY25', 'SVENY26', 'SVENY27', 'SVENY28', 'SVENY29', 'SVENY30'])\n",
      "('frequency', 'daily')\n",
      "('type', 'Time Series')\n",
      "('premium', False)\n",
      "('database_id', 59)\n"
     ]
    },
    {
     "name": "stderr",
     "output_type": "stream",
     "text": [
      "Removing all objects in a sub-directory\n"
     ]
    },
    {
     "name": "stdout",
     "output_type": "stream",
     "text": [
      "2020-01-01_2020-03-06_daily.csv has been overwrite to gs://zhongyuan-dw/interest_rate/fed/us_trsy_zero_coupon_yc/2020/2020-01-01_2020-03-06_daily.csv\n",
      "The start date is set to 2020-01-01 & The end date is set to 2020-12-31\n",
      "('id', 23761126)\n",
      "('dataset_code', 'TIPSY')\n",
      "('database_code', 'FED')\n",
      "('name', 'TIPS Yield Curve and Inflation Compensation')\n",
      "('description', 'Federal Reserve yield curve of index-linked debt. Daily frequency. More detailed information available at http://www.federalreserve.gov/pubs/feds/2008/200805/200805abs.html')\n",
      "('refreshed_at', '2020-03-13T04:10:22.903Z')\n",
      "('newest_available_date', '2019-10-25')\n",
      "('oldest_available_date', '1999-01-04')\n",
      "('column_names', ['Date', 'TIPSY02', 'TIPSY03', 'TIPSY04', 'TIPSY05', 'TIPSY06', 'TIPSY07', 'TIPSY08', 'TIPSY09', 'TIPSY10', 'TIPSY11', 'TIPSY12', 'TIPSY13', 'TIPSY14', 'TIPSY15', 'TIPSY16', 'TIPSY17', 'TIPSY18', 'TIPSY19', 'TIPSY20', 'TIPSPY02', 'TIPSPY03', 'TIPSPY04', 'TIPSPY05', 'TIPSPY06', 'TIPSPY07', 'TIPSPY08', 'TIPSPY09', 'TIPSPY10', 'TIPSPY11', 'TIPSPY12', 'TIPSPY13', 'TIPSPY14', 'TIPSPY15', 'TIPSPY16', 'TIPSPY17', 'TIPSPY18', 'TIPSPY19', 'TIPSPY20', 'TIPSF02', 'TIPSF03', 'TIPSF04', 'TIPSF05', 'TIPSF06', 'TIPSF07', 'TIPSF08', 'TIPSF09', 'TIPSF10', 'TIPSF11', 'TIPSF12', 'TIPSF13', 'TIPSF14', 'TIPSF15', 'TIPSF16', 'TIPSF17', 'TIPSF18', 'TIPSF19', 'TIPSF20', 'TIPS1F04', 'TIPS1F09', 'TIPS5F5', 'BKEVENY02', 'BKEVENY03', 'BKEVENY04', 'BKEVENY05', 'BKEVENY06', 'BKEVENY07', 'BKEVENY08', 'BKEVENY09', 'BKEVENY10', 'BKEVENY11', 'BKEVENY12', 'BKEVENY13', 'BKEVENY14', 'BKEVENY15', 'BKEVENY16', 'BKEVENY17', 'BKEVENY18', 'BKEVENY19', 'BKEVENY20', 'BKEVEN02', 'BKEVEN03', 'BKEVEN04', 'BKEVEN05', 'BKEVEN06', 'BKEVEN07', 'BKEVEN08', 'BKEVEN09', 'BKEVEN10', 'BKEVEN11', 'BKEVEN12', 'BKEVEN13', 'BKEVEN14', 'BKEVEN15', 'BKEVEN16', 'BKEVEN17', 'BKEVEN18', 'BKEVEN19', 'BKEVEN20', 'BKEVENF02', 'BKEVENF03', 'BKEVENF04', 'BKEVENF05', 'BKEVENF06', 'BKEVENF07', 'BKEVENF08', 'BKEVENF09', 'BKEVENF10', 'BKEVENF11', 'BKEVENF12', 'BKEVENF13', 'BKEVENF14', 'BKEVENF15', 'BKEVENF16', 'BKEVENF17', 'BKEVENF18', 'BKEVENF19', 'BKEVENF20', 'BKEVEN1F4', 'BKEVEN1F9', 'BKEVEN5F5', 'BETA0', 'BETA1', 'BETA2', 'BETA3', 'TAU1', 'TAU2'])\n",
      "('frequency', 'daily')\n",
      "('type', 'Time Series')\n",
      "('premium', False)\n",
      "('database_id', 59)\n"
     ]
    },
    {
     "ename": "ValueError",
     "evalue": "User defined end date 2020-12-31 needs to be smaller than the newest available date 2019-10-25",
     "output_type": "error",
     "traceback": [
      "\u001b[0;31m---------------------------------------------------------------------------\u001b[0m",
      "\u001b[0;31mValueError\u001b[0m                                Traceback (most recent call last)",
      "\u001b[0;32m~/quant/notebooks/etl/quandl/extraction.py\u001b[0m in \u001b[0;36m<module>\u001b[0;34m\u001b[0m\n\u001b[1;32m     56\u001b[0m         raise ValueError(\"User defined end date {end_date} needs to be smaller than \"\n\u001b[1;32m     57\u001b[0m                          \u001b[0;34m\"the newest available date {newest_available_date}\"\u001b[0m\u001b[0;34m\u001b[0m\u001b[0;34m\u001b[0m\u001b[0m\n\u001b[0;32m---> 58\u001b[0;31m                          .format(end_date=end_date, newest_available_date=newest_available_date))\n\u001b[0m\u001b[1;32m     59\u001b[0m \u001b[0;34m\u001b[0m\u001b[0m\n\u001b[1;32m     60\u001b[0m \u001b[0;34m\u001b[0m\u001b[0m\n",
      "\u001b[0;31mValueError\u001b[0m: User defined end date 2020-12-31 needs to be smaller than the newest available date 2019-10-25"
     ]
    }
   ],
   "source": [
    "# Recently executed on\n",
    "print(datetime.now())\n",
    "\n",
    "year = 2020\n",
    "db_name = fed.FED_DATABASE_CODE\n",
    "rm_exist_obj = True\n",
    "\n",
    "for name, ds in fed.DATASET_CODE_MAP.items():\n",
    "    ds_name = ds\n",
    "    output_dw_dir = 'interest_rate/fed/{name}'.format(name=name)\n",
    "    \n",
    "    %run -i 'notebooks/etl/quandl/extraction.py'"
   ]
  },
  {
   "cell_type": "code",
   "execution_count": null,
   "metadata": {},
   "outputs": [],
   "source": []
  }
 ],
 "metadata": {
  "kernelspec": {
   "display_name": "Python 3",
   "language": "python",
   "name": "python3"
  },
  "language_info": {
   "codemirror_mode": {
    "name": "ipython",
    "version": 3
   },
   "file_extension": ".py",
   "mimetype": "text/x-python",
   "name": "python",
   "nbconvert_exporter": "python",
   "pygments_lexer": "ipython3",
   "version": "3.7.6"
  }
 },
 "nbformat": 4,
 "nbformat_minor": 4
}
