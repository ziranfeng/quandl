{
 "cells": [
  {
   "cell_type": "code",
   "execution_count": 3,
   "metadata": {},
   "outputs": [
    {
     "name": "stdout",
     "output_type": "stream",
     "text": [
      "/home/jupyter/quant\n"
     ]
    }
   ],
   "source": [
    "# Due to the file system setting of the Jupyter Notebook, navigate to the package to use infra\n",
    "%cd /home/jupyter/quant"
   ]
  },
  {
   "cell_type": "markdown",
   "metadata": {},
   "source": [
    "### Read in data using pre-define data loading scripts"
   ]
  },
  {
   "cell_type": "code",
   "execution_count": 4,
   "metadata": {},
   "outputs": [],
   "source": [
    "from yitian.datasource import *\n",
    "from yitian.datasource.file_utils import create_data_path"
   ]
  },
  {
   "cell_type": "code",
   "execution_count": 5,
   "metadata": {},
   "outputs": [],
   "source": [
    "company_code = 'MSFT'\n",
    "\n",
    "parent_bucket_list = [\n",
    "    create_data_path(COMMODITY, 'opec', 'orb'),\n",
    "    create_data_path(EQUITY, 'nasdaqomx', 'xqc'),\n",
    "    create_data_path(EQUITY, 'company', company_code.lower()),\n",
    "    create_data_path(INTEREST_RATE_AND_FIXED_INCOME, 'fed', 'svenpy')\n",
    "]\n",
    "\n",
    "date_range = ('2015-01-01', '2020-03-15')\n"
   ]
  },
  {
   "cell_type": "code",
   "execution_count": null,
   "metadata": {},
   "outputs": [
    {
     "name": "stdout",
     "output_type": "stream",
     "text": [
      "gs://zhongyuan-dw/commodity/opec/orb\n"
     ]
    }
   ],
   "source": [
    "%run -i 'notebooks/explore/load_years_data.py'"
   ]
  },
  {
   "cell_type": "code",
   "execution_count": 26,
   "metadata": {},
   "outputs": [],
   "source": [
    "filtered_nasdaq_opec_data_pd = pd.concat([nasdaq_settlement_pd[['nasdaq_settlement_value']], opec_pd[['opec_oil_price']]], axis=1, sort=False)\n",
    "\n",
    "filtered_nasdaq_fed_pd =  pd.concat([nasdaq_settlement_pd[['nasdaq_settlement_value']], fed_pd], axis=1, sort=False)"
   ]
  },
  {
   "cell_type": "markdown",
   "metadata": {},
   "source": [
    "#### Generate comparative trace plot"
   ]
  },
  {
   "cell_type": "code",
   "execution_count": null,
   "metadata": {},
   "outputs": [],
   "source": [
    "plot.time_series(filtered_nasdaq_opec_data_pd, cols=['nasdaq_settlement_value'], left_y_title='NASDAQ Settlement Value', right_cols=['opec_oil_price'], right_y_title='OPEC Oil Price', title='NASDAQ vs OPEC', name='nasdaq_settlement_value_opec_oil')"
   ]
  },
  {
   "cell_type": "code",
   "execution_count": null,
   "metadata": {},
   "outputs": [],
   "source": [
    "plot.time_series(filtered_nasdaq_fed_pd, cols=['nasdaq_settlement_value'], left_y_title='NASDAQ Settlement Value', \n",
    "                 right_cols=['SVENPY01', 'SVENPY02', 'SVENPY05', 'SVENPY10', 'SVENPY15', 'SVENPY20', 'SVENPY30'], \n",
    "                 right_y_title='US Fed Rate', title='NASDAQ vs US Fed Rate', name='nasdaq_settlement_value_fed_rate')"
   ]
  }
 ],
 "metadata": {
  "kernelspec": {
   "display_name": "Python 3",
   "language": "python",
   "name": "python3"
  },
  "language_info": {
   "codemirror_mode": {
    "name": "ipython",
    "version": 3
   },
   "file_extension": ".py",
   "mimetype": "text/x-python",
   "name": "python",
   "nbconvert_exporter": "python",
   "pygments_lexer": "ipython3",
   "version": "3.7.6"
  }
 },
 "nbformat": 4,
 "nbformat_minor": 4
}
